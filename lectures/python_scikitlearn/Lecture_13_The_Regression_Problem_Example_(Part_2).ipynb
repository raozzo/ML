{
 "cells": [
  {
   "cell_type": "markdown",
   "metadata": {
    "slideshow": {
     "slide_type": "slide"
    }
   },
   "source": [
    "# Fundamentals of Information Systems\n",
    "\n",
    "## Python Programming (for Data Science)\n",
    "\n",
    "### Master's Degree in Data Science\n",
    "\n",
    "#### Giorgio Maria Di Nunzio\n",
    "#### (Courtesy of Gabriele Tolomei FIS 2018-2019)\n",
    "<a href=\"mailto:giorgiomaria.dinunzio@unipd.it\">giorgiomaria.dinunzio@unipd.it</a><br/>\n",
    "University of Padua, Italy<br/>\n",
    "2021/2022<br/>"
   ]
  },
  {
   "cell_type": "markdown",
   "metadata": {
    "slideshow": {
     "slide_type": "slide"
    }
   },
   "source": [
    "# Lecture 12: The Regression Problem - Example (Part 2)"
   ]
  },
  {
   "cell_type": "code",
   "execution_count": 9,
   "metadata": {
    "slideshow": {
     "slide_type": "slide"
    }
   },
   "outputs": [],
   "source": [
    "import math\n",
    "import numpy as np\n",
    "import pandas as pd\n",
    "import matplotlib.pyplot as plt\n",
    "import seaborn as sns\n",
    "# Import stats module from scipy, which contains a large number \n",
    "# of probability distributions as well as an exhaustive library of statistical functions.\n",
    "import scipy.stats as stats\n",
    "# Import the sub-module 'linear_model' of scikit-learn\n",
    "# this sub-module implements generalized linear models.\n",
    "# API: http://scikit-learn.org/stable/modules/classes.html#module-sklearn.linear_model\n",
    "from sklearn import linear_model\n",
    "# Import two quality metrics which will be used to assess the quality\n",
    "# of our predictions: MSE and R squared (a.k.a. coefficient of determination)\n",
    "from sklearn.metrics import mean_squared_error, r2_score\n",
    "\n",
    "%matplotlib inline"
   ]
  },
  {
   "cell_type": "markdown",
   "metadata": {
    "slideshow": {
     "slide_type": "slide"
    }
   },
   "source": [
    "# Summary of Part 1"
   ]
  },
  {
   "cell_type": "code",
   "execution_count": 10,
   "metadata": {
    "slideshow": {
     "slide_type": "slide"
    }
   },
   "outputs": [],
   "source": [
    "# Path to the local dataset file\n",
    "DATASET_PATH = \"../data/auto-mpg-regression/dataset.tsv\""
   ]
  },
  {
   "cell_type": "markdown",
   "metadata": {
    "slideshow": {
     "slide_type": "slide"
    }
   },
   "source": [
    "## Loading Dataset"
   ]
  },
  {
   "cell_type": "code",
   "execution_count": 11,
   "metadata": {
    "slideshow": {
     "slide_type": "slide"
    }
   },
   "outputs": [
    {
     "name": "stdout",
     "output_type": "stream",
     "text": [
      "Shape of the dataset: (398, 9)\n"
     ]
    },
    {
     "data": {
      "text/html": [
       "<div>\n",
       "<style scoped>\n",
       "    .dataframe tbody tr th:only-of-type {\n",
       "        vertical-align: middle;\n",
       "    }\n",
       "\n",
       "    .dataframe tbody tr th {\n",
       "        vertical-align: top;\n",
       "    }\n",
       "\n",
       "    .dataframe thead th {\n",
       "        text-align: right;\n",
       "    }\n",
       "</style>\n",
       "<table border=\"1\" class=\"dataframe\">\n",
       "  <thead>\n",
       "    <tr style=\"text-align: right;\">\n",
       "      <th></th>\n",
       "      <th>mpg</th>\n",
       "      <th>cylinders</th>\n",
       "      <th>displacement</th>\n",
       "      <th>horsepower</th>\n",
       "      <th>weight</th>\n",
       "      <th>acceleration</th>\n",
       "      <th>model_year</th>\n",
       "      <th>origin</th>\n",
       "      <th>car_name</th>\n",
       "    </tr>\n",
       "  </thead>\n",
       "  <tbody>\n",
       "    <tr>\n",
       "      <th>0</th>\n",
       "      <td>18.0</td>\n",
       "      <td>8</td>\n",
       "      <td>307.0</td>\n",
       "      <td>130.0</td>\n",
       "      <td>3504.0</td>\n",
       "      <td>12.0</td>\n",
       "      <td>70</td>\n",
       "      <td>1</td>\n",
       "      <td>chevrolet chevelle malibu</td>\n",
       "    </tr>\n",
       "    <tr>\n",
       "      <th>1</th>\n",
       "      <td>15.0</td>\n",
       "      <td>8</td>\n",
       "      <td>350.0</td>\n",
       "      <td>165.0</td>\n",
       "      <td>3693.0</td>\n",
       "      <td>11.5</td>\n",
       "      <td>70</td>\n",
       "      <td>1</td>\n",
       "      <td>buick skylark 320</td>\n",
       "    </tr>\n",
       "    <tr>\n",
       "      <th>2</th>\n",
       "      <td>18.0</td>\n",
       "      <td>8</td>\n",
       "      <td>318.0</td>\n",
       "      <td>150.0</td>\n",
       "      <td>3436.0</td>\n",
       "      <td>11.0</td>\n",
       "      <td>70</td>\n",
       "      <td>1</td>\n",
       "      <td>plymouth satellite</td>\n",
       "    </tr>\n",
       "    <tr>\n",
       "      <th>3</th>\n",
       "      <td>16.0</td>\n",
       "      <td>8</td>\n",
       "      <td>304.0</td>\n",
       "      <td>150.0</td>\n",
       "      <td>3433.0</td>\n",
       "      <td>12.0</td>\n",
       "      <td>70</td>\n",
       "      <td>1</td>\n",
       "      <td>amc rebel sst</td>\n",
       "    </tr>\n",
       "    <tr>\n",
       "      <th>4</th>\n",
       "      <td>17.0</td>\n",
       "      <td>8</td>\n",
       "      <td>302.0</td>\n",
       "      <td>140.0</td>\n",
       "      <td>3449.0</td>\n",
       "      <td>10.5</td>\n",
       "      <td>70</td>\n",
       "      <td>1</td>\n",
       "      <td>ford torino</td>\n",
       "    </tr>\n",
       "  </tbody>\n",
       "</table>\n",
       "</div>"
      ],
      "text/plain": [
       "    mpg  cylinders  displacement  horsepower  weight  acceleration  \\\n",
       "0  18.0          8         307.0       130.0  3504.0          12.0   \n",
       "1  15.0          8         350.0       165.0  3693.0          11.5   \n",
       "2  18.0          8         318.0       150.0  3436.0          11.0   \n",
       "3  16.0          8         304.0       150.0  3433.0          12.0   \n",
       "4  17.0          8         302.0       140.0  3449.0          10.5   \n",
       "\n",
       "   model_year  origin                   car_name  \n",
       "0          70       1  chevrolet chevelle malibu  \n",
       "1          70       1          buick skylark 320  \n",
       "2          70       1         plymouth satellite  \n",
       "3          70       1              amc rebel sst  \n",
       "4          70       1                ford torino  "
      ]
     },
     "execution_count": 11,
     "metadata": {},
     "output_type": "execute_result"
    }
   ],
   "source": [
    "columns = ['mpg', 'cylinders', 'displacement', 'horsepower', 'weight', \n",
    "           'acceleration', 'model_year', 'origin', 'car_name']\n",
    "\n",
    "data = pd.read_csv(DATASET_PATH, sep=\"\\t\", header=None, \n",
    "                   names=columns,\n",
    "                  na_values={'horsepower':'?'})\n",
    "\n",
    "print(\"Shape of the dataset: {}\".format(data.shape))\n",
    "data.head()"
   ]
  },
  {
   "cell_type": "markdown",
   "metadata": {
    "slideshow": {
     "slide_type": "slide"
    }
   },
   "source": [
    "## Change the Column Layout"
   ]
  },
  {
   "cell_type": "code",
   "execution_count": 12,
   "metadata": {
    "slideshow": {
     "slide_type": "slide"
    }
   },
   "outputs": [
    {
     "data": {
      "text/html": [
       "<div>\n",
       "<style scoped>\n",
       "    .dataframe tbody tr th:only-of-type {\n",
       "        vertical-align: middle;\n",
       "    }\n",
       "\n",
       "    .dataframe tbody tr th {\n",
       "        vertical-align: top;\n",
       "    }\n",
       "\n",
       "    .dataframe thead th {\n",
       "        text-align: right;\n",
       "    }\n",
       "</style>\n",
       "<table border=\"1\" class=\"dataframe\">\n",
       "  <thead>\n",
       "    <tr style=\"text-align: right;\">\n",
       "      <th></th>\n",
       "      <th>cylinders</th>\n",
       "      <th>displacement</th>\n",
       "      <th>horsepower</th>\n",
       "      <th>weight</th>\n",
       "      <th>acceleration</th>\n",
       "      <th>model_year</th>\n",
       "      <th>origin</th>\n",
       "      <th>car_name</th>\n",
       "      <th>mpg</th>\n",
       "    </tr>\n",
       "  </thead>\n",
       "  <tbody>\n",
       "    <tr>\n",
       "      <th>0</th>\n",
       "      <td>8</td>\n",
       "      <td>307.0</td>\n",
       "      <td>130.0</td>\n",
       "      <td>3504.0</td>\n",
       "      <td>12.0</td>\n",
       "      <td>70</td>\n",
       "      <td>1</td>\n",
       "      <td>chevrolet chevelle malibu</td>\n",
       "      <td>18.0</td>\n",
       "    </tr>\n",
       "    <tr>\n",
       "      <th>1</th>\n",
       "      <td>8</td>\n",
       "      <td>350.0</td>\n",
       "      <td>165.0</td>\n",
       "      <td>3693.0</td>\n",
       "      <td>11.5</td>\n",
       "      <td>70</td>\n",
       "      <td>1</td>\n",
       "      <td>buick skylark 320</td>\n",
       "      <td>15.0</td>\n",
       "    </tr>\n",
       "    <tr>\n",
       "      <th>2</th>\n",
       "      <td>8</td>\n",
       "      <td>318.0</td>\n",
       "      <td>150.0</td>\n",
       "      <td>3436.0</td>\n",
       "      <td>11.0</td>\n",
       "      <td>70</td>\n",
       "      <td>1</td>\n",
       "      <td>plymouth satellite</td>\n",
       "      <td>18.0</td>\n",
       "    </tr>\n",
       "    <tr>\n",
       "      <th>3</th>\n",
       "      <td>8</td>\n",
       "      <td>304.0</td>\n",
       "      <td>150.0</td>\n",
       "      <td>3433.0</td>\n",
       "      <td>12.0</td>\n",
       "      <td>70</td>\n",
       "      <td>1</td>\n",
       "      <td>amc rebel sst</td>\n",
       "      <td>16.0</td>\n",
       "    </tr>\n",
       "    <tr>\n",
       "      <th>4</th>\n",
       "      <td>8</td>\n",
       "      <td>302.0</td>\n",
       "      <td>140.0</td>\n",
       "      <td>3449.0</td>\n",
       "      <td>10.5</td>\n",
       "      <td>70</td>\n",
       "      <td>1</td>\n",
       "      <td>ford torino</td>\n",
       "      <td>17.0</td>\n",
       "    </tr>\n",
       "  </tbody>\n",
       "</table>\n",
       "</div>"
      ],
      "text/plain": [
       "   cylinders  displacement  horsepower  weight  acceleration  model_year  \\\n",
       "0          8         307.0       130.0  3504.0          12.0          70   \n",
       "1          8         350.0       165.0  3693.0          11.5          70   \n",
       "2          8         318.0       150.0  3436.0          11.0          70   \n",
       "3          8         304.0       150.0  3433.0          12.0          70   \n",
       "4          8         302.0       140.0  3449.0          10.5          70   \n",
       "\n",
       "   origin                   car_name   mpg  \n",
       "0       1  chevrolet chevelle malibu  18.0  \n",
       "1       1          buick skylark 320  15.0  \n",
       "2       1         plymouth satellite  18.0  \n",
       "3       1              amc rebel sst  16.0  \n",
       "4       1                ford torino  17.0  "
      ]
     },
     "execution_count": 12,
     "metadata": {},
     "output_type": "execute_result"
    }
   ],
   "source": [
    "# Just as a convention, I prefer to place the column to be predicted\n",
    "# as the last one.\n",
    "columns = data.columns.tolist()\n",
    "# Popping out 'mpg' from the list and insert it back at the end.\n",
    "columns.insert(len(columns), columns.pop(columns.index('mpg')))\n",
    "# Let's refactor the DataFrame using this new column index\n",
    "data = data.loc[:, columns]\n",
    "data.head()\n",
    "# Alternatively to 'loc' we can also use 'reindex()'\n",
    "# data = data.reindex(columns=columns)\n",
    "# data.head()"
   ]
  },
  {
   "cell_type": "markdown",
   "metadata": {
    "slideshow": {
     "slide_type": "slide"
    }
   },
   "source": [
    "## Apply Some Simple Data Transformations"
   ]
  },
  {
   "cell_type": "code",
   "execution_count": 13,
   "metadata": {
    "scrolled": true,
    "slideshow": {
     "slide_type": "slide"
    }
   },
   "outputs": [
    {
     "data": {
      "text/html": [
       "<div>\n",
       "<style scoped>\n",
       "    .dataframe tbody tr th:only-of-type {\n",
       "        vertical-align: middle;\n",
       "    }\n",
       "\n",
       "    .dataframe tbody tr th {\n",
       "        vertical-align: top;\n",
       "    }\n",
       "\n",
       "    .dataframe thead th {\n",
       "        text-align: right;\n",
       "    }\n",
       "</style>\n",
       "<table border=\"1\" class=\"dataframe\">\n",
       "  <thead>\n",
       "    <tr style=\"text-align: right;\">\n",
       "      <th></th>\n",
       "      <th>cylinders</th>\n",
       "      <th>displacement</th>\n",
       "      <th>horsepower</th>\n",
       "      <th>weight</th>\n",
       "      <th>acceleration</th>\n",
       "      <th>model_year</th>\n",
       "      <th>origin</th>\n",
       "      <th>car_name</th>\n",
       "      <th>mpg</th>\n",
       "    </tr>\n",
       "  </thead>\n",
       "  <tbody>\n",
       "    <tr>\n",
       "      <th>0</th>\n",
       "      <td>8</td>\n",
       "      <td>5.030829</td>\n",
       "      <td>130.0</td>\n",
       "      <td>3504.0</td>\n",
       "      <td>12.0</td>\n",
       "      <td>70</td>\n",
       "      <td>1</td>\n",
       "      <td>chevrolet chevelle malibu</td>\n",
       "      <td>18.0</td>\n",
       "    </tr>\n",
       "    <tr>\n",
       "      <th>1</th>\n",
       "      <td>8</td>\n",
       "      <td>5.735472</td>\n",
       "      <td>165.0</td>\n",
       "      <td>3693.0</td>\n",
       "      <td>11.5</td>\n",
       "      <td>70</td>\n",
       "      <td>1</td>\n",
       "      <td>buick skylark 320</td>\n",
       "      <td>15.0</td>\n",
       "    </tr>\n",
       "    <tr>\n",
       "      <th>2</th>\n",
       "      <td>8</td>\n",
       "      <td>5.211086</td>\n",
       "      <td>150.0</td>\n",
       "      <td>3436.0</td>\n",
       "      <td>11.0</td>\n",
       "      <td>70</td>\n",
       "      <td>1</td>\n",
       "      <td>plymouth satellite</td>\n",
       "      <td>18.0</td>\n",
       "    </tr>\n",
       "    <tr>\n",
       "      <th>3</th>\n",
       "      <td>8</td>\n",
       "      <td>4.981667</td>\n",
       "      <td>150.0</td>\n",
       "      <td>3433.0</td>\n",
       "      <td>12.0</td>\n",
       "      <td>70</td>\n",
       "      <td>1</td>\n",
       "      <td>amc rebel sst</td>\n",
       "      <td>16.0</td>\n",
       "    </tr>\n",
       "    <tr>\n",
       "      <th>4</th>\n",
       "      <td>8</td>\n",
       "      <td>4.948893</td>\n",
       "      <td>140.0</td>\n",
       "      <td>3449.0</td>\n",
       "      <td>10.5</td>\n",
       "      <td>70</td>\n",
       "      <td>1</td>\n",
       "      <td>ford torino</td>\n",
       "      <td>17.0</td>\n",
       "    </tr>\n",
       "  </tbody>\n",
       "</table>\n",
       "</div>"
      ],
      "text/plain": [
       "   cylinders  displacement  horsepower  weight  acceleration  model_year  \\\n",
       "0          8      5.030829       130.0  3504.0          12.0          70   \n",
       "1          8      5.735472       165.0  3693.0          11.5          70   \n",
       "2          8      5.211086       150.0  3436.0          11.0          70   \n",
       "3          8      4.981667       150.0  3433.0          12.0          70   \n",
       "4          8      4.948893       140.0  3449.0          10.5          70   \n",
       "\n",
       "   origin                   car_name   mpg  \n",
       "0       1  chevrolet chevelle malibu  18.0  \n",
       "1       1          buick skylark 320  15.0  \n",
       "2       1         plymouth satellite  18.0  \n",
       "3       1              amc rebel sst  16.0  \n",
       "4       1                ford torino  17.0  "
      ]
     },
     "execution_count": 13,
     "metadata": {},
     "output_type": "execute_result"
    }
   ],
   "source": [
    "# Suppose we want to convert displacement unit from cubic inch to litre\n",
    "# There is a useful conversion table which tells us how to do that.\n",
    "# 1 cubic inch = 0.016387064 litre\n",
    "CI_TO_LITRE = 0.016387064\n",
    "data.displacement *= CI_TO_LITRE\n",
    "data.head()"
   ]
  },
  {
   "cell_type": "markdown",
   "metadata": {
    "slideshow": {
     "slide_type": "slide"
    }
   },
   "source": [
    "## Handling Missing Values (NA)"
   ]
  },
  {
   "cell_type": "code",
   "execution_count": 14,
   "metadata": {
    "slideshow": {
     "slide_type": "slide"
    }
   },
   "outputs": [
    {
     "data": {
      "text/html": [
       "<div>\n",
       "<style scoped>\n",
       "    .dataframe tbody tr th:only-of-type {\n",
       "        vertical-align: middle;\n",
       "    }\n",
       "\n",
       "    .dataframe tbody tr th {\n",
       "        vertical-align: top;\n",
       "    }\n",
       "\n",
       "    .dataframe thead th {\n",
       "        text-align: right;\n",
       "    }\n",
       "</style>\n",
       "<table border=\"1\" class=\"dataframe\">\n",
       "  <thead>\n",
       "    <tr style=\"text-align: right;\">\n",
       "      <th></th>\n",
       "      <th>cylinders</th>\n",
       "      <th>displacement</th>\n",
       "      <th>horsepower</th>\n",
       "      <th>weight</th>\n",
       "      <th>acceleration</th>\n",
       "      <th>model_year</th>\n",
       "      <th>origin</th>\n",
       "      <th>car_name</th>\n",
       "      <th>mpg</th>\n",
       "    </tr>\n",
       "  </thead>\n",
       "  <tbody>\n",
       "    <tr>\n",
       "      <th>0</th>\n",
       "      <td>8</td>\n",
       "      <td>5.030829</td>\n",
       "      <td>130.0</td>\n",
       "      <td>3504.0</td>\n",
       "      <td>12.0</td>\n",
       "      <td>70</td>\n",
       "      <td>1</td>\n",
       "      <td>chevrolet chevelle malibu</td>\n",
       "      <td>18.0</td>\n",
       "    </tr>\n",
       "    <tr>\n",
       "      <th>1</th>\n",
       "      <td>8</td>\n",
       "      <td>5.735472</td>\n",
       "      <td>165.0</td>\n",
       "      <td>3693.0</td>\n",
       "      <td>11.5</td>\n",
       "      <td>70</td>\n",
       "      <td>1</td>\n",
       "      <td>buick skylark 320</td>\n",
       "      <td>15.0</td>\n",
       "    </tr>\n",
       "    <tr>\n",
       "      <th>2</th>\n",
       "      <td>8</td>\n",
       "      <td>5.211086</td>\n",
       "      <td>150.0</td>\n",
       "      <td>3436.0</td>\n",
       "      <td>11.0</td>\n",
       "      <td>70</td>\n",
       "      <td>1</td>\n",
       "      <td>plymouth satellite</td>\n",
       "      <td>18.0</td>\n",
       "    </tr>\n",
       "    <tr>\n",
       "      <th>3</th>\n",
       "      <td>8</td>\n",
       "      <td>4.981667</td>\n",
       "      <td>150.0</td>\n",
       "      <td>3433.0</td>\n",
       "      <td>12.0</td>\n",
       "      <td>70</td>\n",
       "      <td>1</td>\n",
       "      <td>amc rebel sst</td>\n",
       "      <td>16.0</td>\n",
       "    </tr>\n",
       "    <tr>\n",
       "      <th>4</th>\n",
       "      <td>8</td>\n",
       "      <td>4.948893</td>\n",
       "      <td>140.0</td>\n",
       "      <td>3449.0</td>\n",
       "      <td>10.5</td>\n",
       "      <td>70</td>\n",
       "      <td>1</td>\n",
       "      <td>ford torino</td>\n",
       "      <td>17.0</td>\n",
       "    </tr>\n",
       "  </tbody>\n",
       "</table>\n",
       "</div>"
      ],
      "text/plain": [
       "   cylinders  displacement  horsepower  weight  acceleration  model_year  \\\n",
       "0          8      5.030829       130.0  3504.0          12.0          70   \n",
       "1          8      5.735472       165.0  3693.0          11.5          70   \n",
       "2          8      5.211086       150.0  3436.0          11.0          70   \n",
       "3          8      4.981667       150.0  3433.0          12.0          70   \n",
       "4          8      4.948893       140.0  3449.0          10.5          70   \n",
       "\n",
       "   origin                   car_name   mpg  \n",
       "0       1  chevrolet chevelle malibu  18.0  \n",
       "1       1          buick skylark 320  15.0  \n",
       "2       1         plymouth satellite  18.0  \n",
       "3       1              amc rebel sst  16.0  \n",
       "4       1                ford torino  17.0  "
      ]
     },
     "execution_count": 14,
     "metadata": {},
     "output_type": "execute_result"
    }
   ],
   "source": [
    "# Let's replace missing values on 'horsepower'\n",
    "# using the median as computed from the other observations.\n",
    "# NOTE: here's a classical example where using the mean rather than the median\n",
    "# might affect the result, as the mean is more sensitive to outliers.\n",
    "# NOTE: by default, median() does not include NAs in the computation.\n",
    "# In other words, we don't need to explicitly tell pandas to work on non-NA values:\n",
    "# data.horsepower[data.horsepower.notnull()].median()\n",
    "data.horsepower.fillna(data.horsepower.median(), inplace=True)\n",
    "data.head()"
   ]
  },
  {
   "cell_type": "markdown",
   "metadata": {
    "slideshow": {
     "slide_type": "slide"
    }
   },
   "source": [
    "## Handling Outliers"
   ]
  },
  {
   "cell_type": "code",
   "execution_count": 15,
   "metadata": {
    "slideshow": {
     "slide_type": "slide"
    }
   },
   "outputs": [],
   "source": [
    "# Let's winsorize 'horsepower' and 'acceleration'\n",
    "_ = stats.mstats.winsorize(data.horsepower, limits=0.0375, inplace=True)\n",
    "_ = stats.mstats.winsorize(data.acceleration, limits=0.0375, inplace=True)"
   ]
  },
  {
   "cell_type": "markdown",
   "metadata": {
    "slideshow": {
     "slide_type": "slide"
    }
   },
   "source": [
    "## Encoding Categorical Features: One-Hot Encoding"
   ]
  },
  {
   "cell_type": "code",
   "execution_count": 16,
   "metadata": {
    "slideshow": {
     "slide_type": "slide"
    }
   },
   "outputs": [
    {
     "data": {
      "text/html": [
       "<div>\n",
       "<style scoped>\n",
       "    .dataframe tbody tr th:only-of-type {\n",
       "        vertical-align: middle;\n",
       "    }\n",
       "\n",
       "    .dataframe tbody tr th {\n",
       "        vertical-align: top;\n",
       "    }\n",
       "\n",
       "    .dataframe thead th {\n",
       "        text-align: right;\n",
       "    }\n",
       "</style>\n",
       "<table border=\"1\" class=\"dataframe\">\n",
       "  <thead>\n",
       "    <tr style=\"text-align: right;\">\n",
       "      <th></th>\n",
       "      <th>displacement</th>\n",
       "      <th>horsepower</th>\n",
       "      <th>weight</th>\n",
       "      <th>acceleration</th>\n",
       "      <th>car_name</th>\n",
       "      <th>mpg</th>\n",
       "      <th>cylinders_3</th>\n",
       "      <th>cylinders_4</th>\n",
       "      <th>cylinders_5</th>\n",
       "      <th>cylinders_6</th>\n",
       "      <th>...</th>\n",
       "      <th>model_year_76</th>\n",
       "      <th>model_year_77</th>\n",
       "      <th>model_year_78</th>\n",
       "      <th>model_year_79</th>\n",
       "      <th>model_year_80</th>\n",
       "      <th>model_year_81</th>\n",
       "      <th>model_year_82</th>\n",
       "      <th>origin_1</th>\n",
       "      <th>origin_2</th>\n",
       "      <th>origin_3</th>\n",
       "    </tr>\n",
       "  </thead>\n",
       "  <tbody>\n",
       "    <tr>\n",
       "      <th>0</th>\n",
       "      <td>5.030829</td>\n",
       "      <td>130.0</td>\n",
       "      <td>3504.0</td>\n",
       "      <td>12.0</td>\n",
       "      <td>chevrolet chevelle malibu</td>\n",
       "      <td>18.0</td>\n",
       "      <td>0</td>\n",
       "      <td>0</td>\n",
       "      <td>0</td>\n",
       "      <td>0</td>\n",
       "      <td>...</td>\n",
       "      <td>0</td>\n",
       "      <td>0</td>\n",
       "      <td>0</td>\n",
       "      <td>0</td>\n",
       "      <td>0</td>\n",
       "      <td>0</td>\n",
       "      <td>0</td>\n",
       "      <td>1</td>\n",
       "      <td>0</td>\n",
       "      <td>0</td>\n",
       "    </tr>\n",
       "    <tr>\n",
       "      <th>1</th>\n",
       "      <td>5.735472</td>\n",
       "      <td>165.0</td>\n",
       "      <td>3693.0</td>\n",
       "      <td>11.5</td>\n",
       "      <td>buick skylark 320</td>\n",
       "      <td>15.0</td>\n",
       "      <td>0</td>\n",
       "      <td>0</td>\n",
       "      <td>0</td>\n",
       "      <td>0</td>\n",
       "      <td>...</td>\n",
       "      <td>0</td>\n",
       "      <td>0</td>\n",
       "      <td>0</td>\n",
       "      <td>0</td>\n",
       "      <td>0</td>\n",
       "      <td>0</td>\n",
       "      <td>0</td>\n",
       "      <td>1</td>\n",
       "      <td>0</td>\n",
       "      <td>0</td>\n",
       "    </tr>\n",
       "    <tr>\n",
       "      <th>2</th>\n",
       "      <td>5.211086</td>\n",
       "      <td>150.0</td>\n",
       "      <td>3436.0</td>\n",
       "      <td>11.0</td>\n",
       "      <td>plymouth satellite</td>\n",
       "      <td>18.0</td>\n",
       "      <td>0</td>\n",
       "      <td>0</td>\n",
       "      <td>0</td>\n",
       "      <td>0</td>\n",
       "      <td>...</td>\n",
       "      <td>0</td>\n",
       "      <td>0</td>\n",
       "      <td>0</td>\n",
       "      <td>0</td>\n",
       "      <td>0</td>\n",
       "      <td>0</td>\n",
       "      <td>0</td>\n",
       "      <td>1</td>\n",
       "      <td>0</td>\n",
       "      <td>0</td>\n",
       "    </tr>\n",
       "    <tr>\n",
       "      <th>3</th>\n",
       "      <td>4.981667</td>\n",
       "      <td>150.0</td>\n",
       "      <td>3433.0</td>\n",
       "      <td>12.0</td>\n",
       "      <td>amc rebel sst</td>\n",
       "      <td>16.0</td>\n",
       "      <td>0</td>\n",
       "      <td>0</td>\n",
       "      <td>0</td>\n",
       "      <td>0</td>\n",
       "      <td>...</td>\n",
       "      <td>0</td>\n",
       "      <td>0</td>\n",
       "      <td>0</td>\n",
       "      <td>0</td>\n",
       "      <td>0</td>\n",
       "      <td>0</td>\n",
       "      <td>0</td>\n",
       "      <td>1</td>\n",
       "      <td>0</td>\n",
       "      <td>0</td>\n",
       "    </tr>\n",
       "    <tr>\n",
       "      <th>4</th>\n",
       "      <td>4.948893</td>\n",
       "      <td>140.0</td>\n",
       "      <td>3449.0</td>\n",
       "      <td>11.0</td>\n",
       "      <td>ford torino</td>\n",
       "      <td>17.0</td>\n",
       "      <td>0</td>\n",
       "      <td>0</td>\n",
       "      <td>0</td>\n",
       "      <td>0</td>\n",
       "      <td>...</td>\n",
       "      <td>0</td>\n",
       "      <td>0</td>\n",
       "      <td>0</td>\n",
       "      <td>0</td>\n",
       "      <td>0</td>\n",
       "      <td>0</td>\n",
       "      <td>0</td>\n",
       "      <td>1</td>\n",
       "      <td>0</td>\n",
       "      <td>0</td>\n",
       "    </tr>\n",
       "  </tbody>\n",
       "</table>\n",
       "<p>5 rows × 27 columns</p>\n",
       "</div>"
      ],
      "text/plain": [
       "   displacement  horsepower  weight  acceleration                   car_name  \\\n",
       "0      5.030829       130.0  3504.0          12.0  chevrolet chevelle malibu   \n",
       "1      5.735472       165.0  3693.0          11.5          buick skylark 320   \n",
       "2      5.211086       150.0  3436.0          11.0         plymouth satellite   \n",
       "3      4.981667       150.0  3433.0          12.0              amc rebel sst   \n",
       "4      4.948893       140.0  3449.0          11.0                ford torino   \n",
       "\n",
       "    mpg  cylinders_3  cylinders_4  cylinders_5  cylinders_6  ...  \\\n",
       "0  18.0            0            0            0            0  ...   \n",
       "1  15.0            0            0            0            0  ...   \n",
       "2  18.0            0            0            0            0  ...   \n",
       "3  16.0            0            0            0            0  ...   \n",
       "4  17.0            0            0            0            0  ...   \n",
       "\n",
       "   model_year_76  model_year_77  model_year_78  model_year_79  model_year_80  \\\n",
       "0              0              0              0              0              0   \n",
       "1              0              0              0              0              0   \n",
       "2              0              0              0              0              0   \n",
       "3              0              0              0              0              0   \n",
       "4              0              0              0              0              0   \n",
       "\n",
       "   model_year_81  model_year_82  origin_1  origin_2  origin_3  \n",
       "0              0              0         1         0         0  \n",
       "1              0              0         1         0         0  \n",
       "2              0              0         1         0         0  \n",
       "3              0              0         1         0         0  \n",
       "4              0              0         1         0         0  \n",
       "\n",
       "[5 rows x 27 columns]"
      ]
     },
     "execution_count": 16,
     "metadata": {},
     "output_type": "execute_result"
    }
   ],
   "source": [
    "# In pandas we can achieve easily one-hot encoding using the 'get_dummies()' function\n",
    "categorical_features = ['cylinders', 'model_year', 'origin']\n",
    "data = pd.get_dummies(data, columns = categorical_features)\n",
    "data.head()"
   ]
  },
  {
   "cell_type": "code",
   "execution_count": 17,
   "metadata": {
    "slideshow": {
     "slide_type": "slide"
    }
   },
   "outputs": [
    {
     "data": {
      "text/html": [
       "<div>\n",
       "<style scoped>\n",
       "    .dataframe tbody tr th:only-of-type {\n",
       "        vertical-align: middle;\n",
       "    }\n",
       "\n",
       "    .dataframe tbody tr th {\n",
       "        vertical-align: top;\n",
       "    }\n",
       "\n",
       "    .dataframe thead th {\n",
       "        text-align: right;\n",
       "    }\n",
       "</style>\n",
       "<table border=\"1\" class=\"dataframe\">\n",
       "  <thead>\n",
       "    <tr style=\"text-align: right;\">\n",
       "      <th></th>\n",
       "      <th>displacement</th>\n",
       "      <th>horsepower</th>\n",
       "      <th>weight</th>\n",
       "      <th>acceleration</th>\n",
       "      <th>car_name</th>\n",
       "      <th>cylinders_3</th>\n",
       "      <th>cylinders_4</th>\n",
       "      <th>cylinders_5</th>\n",
       "      <th>cylinders_6</th>\n",
       "      <th>cylinders_8</th>\n",
       "      <th>...</th>\n",
       "      <th>model_year_77</th>\n",
       "      <th>model_year_78</th>\n",
       "      <th>model_year_79</th>\n",
       "      <th>model_year_80</th>\n",
       "      <th>model_year_81</th>\n",
       "      <th>model_year_82</th>\n",
       "      <th>origin_1</th>\n",
       "      <th>origin_2</th>\n",
       "      <th>origin_3</th>\n",
       "      <th>mpg</th>\n",
       "    </tr>\n",
       "  </thead>\n",
       "  <tbody>\n",
       "    <tr>\n",
       "      <th>0</th>\n",
       "      <td>5.030829</td>\n",
       "      <td>130.0</td>\n",
       "      <td>3504.0</td>\n",
       "      <td>12.0</td>\n",
       "      <td>chevrolet chevelle malibu</td>\n",
       "      <td>0</td>\n",
       "      <td>0</td>\n",
       "      <td>0</td>\n",
       "      <td>0</td>\n",
       "      <td>1</td>\n",
       "      <td>...</td>\n",
       "      <td>0</td>\n",
       "      <td>0</td>\n",
       "      <td>0</td>\n",
       "      <td>0</td>\n",
       "      <td>0</td>\n",
       "      <td>0</td>\n",
       "      <td>1</td>\n",
       "      <td>0</td>\n",
       "      <td>0</td>\n",
       "      <td>18.0</td>\n",
       "    </tr>\n",
       "    <tr>\n",
       "      <th>1</th>\n",
       "      <td>5.735472</td>\n",
       "      <td>165.0</td>\n",
       "      <td>3693.0</td>\n",
       "      <td>11.5</td>\n",
       "      <td>buick skylark 320</td>\n",
       "      <td>0</td>\n",
       "      <td>0</td>\n",
       "      <td>0</td>\n",
       "      <td>0</td>\n",
       "      <td>1</td>\n",
       "      <td>...</td>\n",
       "      <td>0</td>\n",
       "      <td>0</td>\n",
       "      <td>0</td>\n",
       "      <td>0</td>\n",
       "      <td>0</td>\n",
       "      <td>0</td>\n",
       "      <td>1</td>\n",
       "      <td>0</td>\n",
       "      <td>0</td>\n",
       "      <td>15.0</td>\n",
       "    </tr>\n",
       "    <tr>\n",
       "      <th>2</th>\n",
       "      <td>5.211086</td>\n",
       "      <td>150.0</td>\n",
       "      <td>3436.0</td>\n",
       "      <td>11.0</td>\n",
       "      <td>plymouth satellite</td>\n",
       "      <td>0</td>\n",
       "      <td>0</td>\n",
       "      <td>0</td>\n",
       "      <td>0</td>\n",
       "      <td>1</td>\n",
       "      <td>...</td>\n",
       "      <td>0</td>\n",
       "      <td>0</td>\n",
       "      <td>0</td>\n",
       "      <td>0</td>\n",
       "      <td>0</td>\n",
       "      <td>0</td>\n",
       "      <td>1</td>\n",
       "      <td>0</td>\n",
       "      <td>0</td>\n",
       "      <td>18.0</td>\n",
       "    </tr>\n",
       "    <tr>\n",
       "      <th>3</th>\n",
       "      <td>4.981667</td>\n",
       "      <td>150.0</td>\n",
       "      <td>3433.0</td>\n",
       "      <td>12.0</td>\n",
       "      <td>amc rebel sst</td>\n",
       "      <td>0</td>\n",
       "      <td>0</td>\n",
       "      <td>0</td>\n",
       "      <td>0</td>\n",
       "      <td>1</td>\n",
       "      <td>...</td>\n",
       "      <td>0</td>\n",
       "      <td>0</td>\n",
       "      <td>0</td>\n",
       "      <td>0</td>\n",
       "      <td>0</td>\n",
       "      <td>0</td>\n",
       "      <td>1</td>\n",
       "      <td>0</td>\n",
       "      <td>0</td>\n",
       "      <td>16.0</td>\n",
       "    </tr>\n",
       "    <tr>\n",
       "      <th>4</th>\n",
       "      <td>4.948893</td>\n",
       "      <td>140.0</td>\n",
       "      <td>3449.0</td>\n",
       "      <td>11.0</td>\n",
       "      <td>ford torino</td>\n",
       "      <td>0</td>\n",
       "      <td>0</td>\n",
       "      <td>0</td>\n",
       "      <td>0</td>\n",
       "      <td>1</td>\n",
       "      <td>...</td>\n",
       "      <td>0</td>\n",
       "      <td>0</td>\n",
       "      <td>0</td>\n",
       "      <td>0</td>\n",
       "      <td>0</td>\n",
       "      <td>0</td>\n",
       "      <td>1</td>\n",
       "      <td>0</td>\n",
       "      <td>0</td>\n",
       "      <td>17.0</td>\n",
       "    </tr>\n",
       "  </tbody>\n",
       "</table>\n",
       "<p>5 rows × 27 columns</p>\n",
       "</div>"
      ],
      "text/plain": [
       "   displacement  horsepower  weight  acceleration                   car_name  \\\n",
       "0      5.030829       130.0  3504.0          12.0  chevrolet chevelle malibu   \n",
       "1      5.735472       165.0  3693.0          11.5          buick skylark 320   \n",
       "2      5.211086       150.0  3436.0          11.0         plymouth satellite   \n",
       "3      4.981667       150.0  3433.0          12.0              amc rebel sst   \n",
       "4      4.948893       140.0  3449.0          11.0                ford torino   \n",
       "\n",
       "   cylinders_3  cylinders_4  cylinders_5  cylinders_6  cylinders_8  ...  \\\n",
       "0            0            0            0            0            1  ...   \n",
       "1            0            0            0            0            1  ...   \n",
       "2            0            0            0            0            1  ...   \n",
       "3            0            0            0            0            1  ...   \n",
       "4            0            0            0            0            1  ...   \n",
       "\n",
       "   model_year_77  model_year_78  model_year_79  model_year_80  model_year_81  \\\n",
       "0              0              0              0              0              0   \n",
       "1              0              0              0              0              0   \n",
       "2              0              0              0              0              0   \n",
       "3              0              0              0              0              0   \n",
       "4              0              0              0              0              0   \n",
       "\n",
       "   model_year_82  origin_1  origin_2  origin_3   mpg  \n",
       "0              0         1         0         0  18.0  \n",
       "1              0         1         0         0  15.0  \n",
       "2              0         1         0         0  18.0  \n",
       "3              0         1         0         0  16.0  \n",
       "4              0         1         0         0  17.0  \n",
       "\n",
       "[5 rows x 27 columns]"
      ]
     },
     "execution_count": 17,
     "metadata": {},
     "output_type": "execute_result"
    }
   ],
   "source": [
    "# Just as a convention, I prefer to place the column to be predicted\n",
    "# as the last one.\n",
    "columns = data.columns.tolist()\n",
    "# Popping out 'mpg' from the list and insert it back at the end.\n",
    "columns.insert(len(columns), columns.pop(columns.index('mpg')))\n",
    "# Let's refactor the DataFrame using this new column index\n",
    "data = data.loc[:, columns]\n",
    "data.head()"
   ]
  },
  {
   "cell_type": "code",
   "execution_count": 18,
   "metadata": {
    "slideshow": {
     "slide_type": "slide"
    }
   },
   "outputs": [],
   "source": [
    "def sanitize_automaker_name(car_name):\n",
    "    s = car_name.split(' ')[0]\n",
    "    if s == 'vw' or s == 'vokswagen':\n",
    "        return car_name.replace(s,'volkswagen')\n",
    "    if s == 'chevroelt' or s == 'chevy':\n",
    "        return car_name.replace(s,'chevrolet')\n",
    "    if s == 'maxda':\n",
    "        return car_name.replace(s,'mazda')\n",
    "    if s == 'mercedes':\n",
    "        return car_name.replace(s,'mercedes-benz')\n",
    "    if s == 'toyouta':\n",
    "        return car_name.replace(s,'toyota')\n",
    "    return car_name"
   ]
  },
  {
   "cell_type": "code",
   "execution_count": 19,
   "metadata": {
    "slideshow": {
     "slide_type": "slide"
    }
   },
   "outputs": [
    {
     "data": {
      "text/html": [
       "<div>\n",
       "<style scoped>\n",
       "    .dataframe tbody tr th:only-of-type {\n",
       "        vertical-align: middle;\n",
       "    }\n",
       "\n",
       "    .dataframe tbody tr th {\n",
       "        vertical-align: top;\n",
       "    }\n",
       "\n",
       "    .dataframe thead th {\n",
       "        text-align: right;\n",
       "    }\n",
       "</style>\n",
       "<table border=\"1\" class=\"dataframe\">\n",
       "  <thead>\n",
       "    <tr style=\"text-align: right;\">\n",
       "      <th></th>\n",
       "      <th>displacement</th>\n",
       "      <th>horsepower</th>\n",
       "      <th>weight</th>\n",
       "      <th>acceleration</th>\n",
       "      <th>car_name</th>\n",
       "      <th>cylinders_3</th>\n",
       "      <th>cylinders_4</th>\n",
       "      <th>cylinders_5</th>\n",
       "      <th>cylinders_6</th>\n",
       "      <th>cylinders_8</th>\n",
       "      <th>...</th>\n",
       "      <th>model_year_77</th>\n",
       "      <th>model_year_78</th>\n",
       "      <th>model_year_79</th>\n",
       "      <th>model_year_80</th>\n",
       "      <th>model_year_81</th>\n",
       "      <th>model_year_82</th>\n",
       "      <th>origin_1</th>\n",
       "      <th>origin_2</th>\n",
       "      <th>origin_3</th>\n",
       "      <th>mpg</th>\n",
       "    </tr>\n",
       "  </thead>\n",
       "  <tbody>\n",
       "    <tr>\n",
       "      <th>0</th>\n",
       "      <td>5.030829</td>\n",
       "      <td>130.0</td>\n",
       "      <td>3504.0</td>\n",
       "      <td>12.0</td>\n",
       "      <td>chevrolet chevelle malibu</td>\n",
       "      <td>0</td>\n",
       "      <td>0</td>\n",
       "      <td>0</td>\n",
       "      <td>0</td>\n",
       "      <td>1</td>\n",
       "      <td>...</td>\n",
       "      <td>0</td>\n",
       "      <td>0</td>\n",
       "      <td>0</td>\n",
       "      <td>0</td>\n",
       "      <td>0</td>\n",
       "      <td>0</td>\n",
       "      <td>1</td>\n",
       "      <td>0</td>\n",
       "      <td>0</td>\n",
       "      <td>18.0</td>\n",
       "    </tr>\n",
       "    <tr>\n",
       "      <th>1</th>\n",
       "      <td>5.735472</td>\n",
       "      <td>165.0</td>\n",
       "      <td>3693.0</td>\n",
       "      <td>11.5</td>\n",
       "      <td>buick skylark 320</td>\n",
       "      <td>0</td>\n",
       "      <td>0</td>\n",
       "      <td>0</td>\n",
       "      <td>0</td>\n",
       "      <td>1</td>\n",
       "      <td>...</td>\n",
       "      <td>0</td>\n",
       "      <td>0</td>\n",
       "      <td>0</td>\n",
       "      <td>0</td>\n",
       "      <td>0</td>\n",
       "      <td>0</td>\n",
       "      <td>1</td>\n",
       "      <td>0</td>\n",
       "      <td>0</td>\n",
       "      <td>15.0</td>\n",
       "    </tr>\n",
       "    <tr>\n",
       "      <th>2</th>\n",
       "      <td>5.211086</td>\n",
       "      <td>150.0</td>\n",
       "      <td>3436.0</td>\n",
       "      <td>11.0</td>\n",
       "      <td>plymouth satellite</td>\n",
       "      <td>0</td>\n",
       "      <td>0</td>\n",
       "      <td>0</td>\n",
       "      <td>0</td>\n",
       "      <td>1</td>\n",
       "      <td>...</td>\n",
       "      <td>0</td>\n",
       "      <td>0</td>\n",
       "      <td>0</td>\n",
       "      <td>0</td>\n",
       "      <td>0</td>\n",
       "      <td>0</td>\n",
       "      <td>1</td>\n",
       "      <td>0</td>\n",
       "      <td>0</td>\n",
       "      <td>18.0</td>\n",
       "    </tr>\n",
       "    <tr>\n",
       "      <th>3</th>\n",
       "      <td>4.981667</td>\n",
       "      <td>150.0</td>\n",
       "      <td>3433.0</td>\n",
       "      <td>12.0</td>\n",
       "      <td>amc rebel sst</td>\n",
       "      <td>0</td>\n",
       "      <td>0</td>\n",
       "      <td>0</td>\n",
       "      <td>0</td>\n",
       "      <td>1</td>\n",
       "      <td>...</td>\n",
       "      <td>0</td>\n",
       "      <td>0</td>\n",
       "      <td>0</td>\n",
       "      <td>0</td>\n",
       "      <td>0</td>\n",
       "      <td>0</td>\n",
       "      <td>1</td>\n",
       "      <td>0</td>\n",
       "      <td>0</td>\n",
       "      <td>16.0</td>\n",
       "    </tr>\n",
       "    <tr>\n",
       "      <th>4</th>\n",
       "      <td>4.948893</td>\n",
       "      <td>140.0</td>\n",
       "      <td>3449.0</td>\n",
       "      <td>11.0</td>\n",
       "      <td>ford torino</td>\n",
       "      <td>0</td>\n",
       "      <td>0</td>\n",
       "      <td>0</td>\n",
       "      <td>0</td>\n",
       "      <td>1</td>\n",
       "      <td>...</td>\n",
       "      <td>0</td>\n",
       "      <td>0</td>\n",
       "      <td>0</td>\n",
       "      <td>0</td>\n",
       "      <td>0</td>\n",
       "      <td>0</td>\n",
       "      <td>1</td>\n",
       "      <td>0</td>\n",
       "      <td>0</td>\n",
       "      <td>17.0</td>\n",
       "    </tr>\n",
       "  </tbody>\n",
       "</table>\n",
       "<p>5 rows × 27 columns</p>\n",
       "</div>"
      ],
      "text/plain": [
       "   displacement  horsepower  weight  acceleration                   car_name  \\\n",
       "0      5.030829       130.0  3504.0          12.0  chevrolet chevelle malibu   \n",
       "1      5.735472       165.0  3693.0          11.5          buick skylark 320   \n",
       "2      5.211086       150.0  3436.0          11.0         plymouth satellite   \n",
       "3      4.981667       150.0  3433.0          12.0              amc rebel sst   \n",
       "4      4.948893       140.0  3449.0          11.0                ford torino   \n",
       "\n",
       "   cylinders_3  cylinders_4  cylinders_5  cylinders_6  cylinders_8  ...  \\\n",
       "0            0            0            0            0            1  ...   \n",
       "1            0            0            0            0            1  ...   \n",
       "2            0            0            0            0            1  ...   \n",
       "3            0            0            0            0            1  ...   \n",
       "4            0            0            0            0            1  ...   \n",
       "\n",
       "   model_year_77  model_year_78  model_year_79  model_year_80  model_year_81  \\\n",
       "0              0              0              0              0              0   \n",
       "1              0              0              0              0              0   \n",
       "2              0              0              0              0              0   \n",
       "3              0              0              0              0              0   \n",
       "4              0              0              0              0              0   \n",
       "\n",
       "   model_year_82  origin_1  origin_2  origin_3   mpg  \n",
       "0              0         1         0         0  18.0  \n",
       "1              0         1         0         0  15.0  \n",
       "2              0         1         0         0  18.0  \n",
       "3              0         1         0         0  16.0  \n",
       "4              0         1         0         0  17.0  \n",
       "\n",
       "[5 rows x 27 columns]"
      ]
     },
     "execution_count": 19,
     "metadata": {},
     "output_type": "execute_result"
    }
   ],
   "source": [
    "\"\"\"\n",
    "Let's sanitize automaker name on 'car_name' column\n",
    "\"\"\"\n",
    "data['car_name'] = data['car_name'].map(lambda x: sanitize_automaker_name(x))\n",
    "data.head()"
   ]
  },
  {
   "cell_type": "code",
   "execution_count": 20,
   "metadata": {
    "slideshow": {
     "slide_type": "slide"
    }
   },
   "outputs": [
    {
     "data": {
      "text/html": [
       "<div>\n",
       "<style scoped>\n",
       "    .dataframe tbody tr th:only-of-type {\n",
       "        vertical-align: middle;\n",
       "    }\n",
       "\n",
       "    .dataframe tbody tr th {\n",
       "        vertical-align: top;\n",
       "    }\n",
       "\n",
       "    .dataframe thead th {\n",
       "        text-align: right;\n",
       "    }\n",
       "</style>\n",
       "<table border=\"1\" class=\"dataframe\">\n",
       "  <thead>\n",
       "    <tr style=\"text-align: right;\">\n",
       "      <th></th>\n",
       "      <th>displacement</th>\n",
       "      <th>horsepower</th>\n",
       "      <th>weight</th>\n",
       "      <th>acceleration</th>\n",
       "      <th>car_name</th>\n",
       "      <th>cylinders_3</th>\n",
       "      <th>cylinders_4</th>\n",
       "      <th>cylinders_5</th>\n",
       "      <th>cylinders_6</th>\n",
       "      <th>cylinders_8</th>\n",
       "      <th>...</th>\n",
       "      <th>model_year_78</th>\n",
       "      <th>model_year_79</th>\n",
       "      <th>model_year_80</th>\n",
       "      <th>model_year_81</th>\n",
       "      <th>model_year_82</th>\n",
       "      <th>origin_1</th>\n",
       "      <th>origin_2</th>\n",
       "      <th>origin_3</th>\n",
       "      <th>mpg</th>\n",
       "      <th>automaker_name</th>\n",
       "    </tr>\n",
       "  </thead>\n",
       "  <tbody>\n",
       "    <tr>\n",
       "      <th>0</th>\n",
       "      <td>5.030829</td>\n",
       "      <td>130.0</td>\n",
       "      <td>3504.0</td>\n",
       "      <td>12.0</td>\n",
       "      <td>chevrolet chevelle malibu</td>\n",
       "      <td>0</td>\n",
       "      <td>0</td>\n",
       "      <td>0</td>\n",
       "      <td>0</td>\n",
       "      <td>1</td>\n",
       "      <td>...</td>\n",
       "      <td>0</td>\n",
       "      <td>0</td>\n",
       "      <td>0</td>\n",
       "      <td>0</td>\n",
       "      <td>0</td>\n",
       "      <td>1</td>\n",
       "      <td>0</td>\n",
       "      <td>0</td>\n",
       "      <td>18.0</td>\n",
       "      <td>chevrolet</td>\n",
       "    </tr>\n",
       "    <tr>\n",
       "      <th>1</th>\n",
       "      <td>5.735472</td>\n",
       "      <td>165.0</td>\n",
       "      <td>3693.0</td>\n",
       "      <td>11.5</td>\n",
       "      <td>buick skylark 320</td>\n",
       "      <td>0</td>\n",
       "      <td>0</td>\n",
       "      <td>0</td>\n",
       "      <td>0</td>\n",
       "      <td>1</td>\n",
       "      <td>...</td>\n",
       "      <td>0</td>\n",
       "      <td>0</td>\n",
       "      <td>0</td>\n",
       "      <td>0</td>\n",
       "      <td>0</td>\n",
       "      <td>1</td>\n",
       "      <td>0</td>\n",
       "      <td>0</td>\n",
       "      <td>15.0</td>\n",
       "      <td>buick</td>\n",
       "    </tr>\n",
       "    <tr>\n",
       "      <th>2</th>\n",
       "      <td>5.211086</td>\n",
       "      <td>150.0</td>\n",
       "      <td>3436.0</td>\n",
       "      <td>11.0</td>\n",
       "      <td>plymouth satellite</td>\n",
       "      <td>0</td>\n",
       "      <td>0</td>\n",
       "      <td>0</td>\n",
       "      <td>0</td>\n",
       "      <td>1</td>\n",
       "      <td>...</td>\n",
       "      <td>0</td>\n",
       "      <td>0</td>\n",
       "      <td>0</td>\n",
       "      <td>0</td>\n",
       "      <td>0</td>\n",
       "      <td>1</td>\n",
       "      <td>0</td>\n",
       "      <td>0</td>\n",
       "      <td>18.0</td>\n",
       "      <td>plymouth</td>\n",
       "    </tr>\n",
       "    <tr>\n",
       "      <th>3</th>\n",
       "      <td>4.981667</td>\n",
       "      <td>150.0</td>\n",
       "      <td>3433.0</td>\n",
       "      <td>12.0</td>\n",
       "      <td>amc rebel sst</td>\n",
       "      <td>0</td>\n",
       "      <td>0</td>\n",
       "      <td>0</td>\n",
       "      <td>0</td>\n",
       "      <td>1</td>\n",
       "      <td>...</td>\n",
       "      <td>0</td>\n",
       "      <td>0</td>\n",
       "      <td>0</td>\n",
       "      <td>0</td>\n",
       "      <td>0</td>\n",
       "      <td>1</td>\n",
       "      <td>0</td>\n",
       "      <td>0</td>\n",
       "      <td>16.0</td>\n",
       "      <td>amc</td>\n",
       "    </tr>\n",
       "    <tr>\n",
       "      <th>4</th>\n",
       "      <td>4.948893</td>\n",
       "      <td>140.0</td>\n",
       "      <td>3449.0</td>\n",
       "      <td>11.0</td>\n",
       "      <td>ford torino</td>\n",
       "      <td>0</td>\n",
       "      <td>0</td>\n",
       "      <td>0</td>\n",
       "      <td>0</td>\n",
       "      <td>1</td>\n",
       "      <td>...</td>\n",
       "      <td>0</td>\n",
       "      <td>0</td>\n",
       "      <td>0</td>\n",
       "      <td>0</td>\n",
       "      <td>0</td>\n",
       "      <td>1</td>\n",
       "      <td>0</td>\n",
       "      <td>0</td>\n",
       "      <td>17.0</td>\n",
       "      <td>ford</td>\n",
       "    </tr>\n",
       "  </tbody>\n",
       "</table>\n",
       "<p>5 rows × 28 columns</p>\n",
       "</div>"
      ],
      "text/plain": [
       "   displacement  horsepower  weight  acceleration                   car_name  \\\n",
       "0      5.030829       130.0  3504.0          12.0  chevrolet chevelle malibu   \n",
       "1      5.735472       165.0  3693.0          11.5          buick skylark 320   \n",
       "2      5.211086       150.0  3436.0          11.0         plymouth satellite   \n",
       "3      4.981667       150.0  3433.0          12.0              amc rebel sst   \n",
       "4      4.948893       140.0  3449.0          11.0                ford torino   \n",
       "\n",
       "   cylinders_3  cylinders_4  cylinders_5  cylinders_6  cylinders_8  ...  \\\n",
       "0            0            0            0            0            1  ...   \n",
       "1            0            0            0            0            1  ...   \n",
       "2            0            0            0            0            1  ...   \n",
       "3            0            0            0            0            1  ...   \n",
       "4            0            0            0            0            1  ...   \n",
       "\n",
       "   model_year_78  model_year_79  model_year_80  model_year_81  model_year_82  \\\n",
       "0              0              0              0              0              0   \n",
       "1              0              0              0              0              0   \n",
       "2              0              0              0              0              0   \n",
       "3              0              0              0              0              0   \n",
       "4              0              0              0              0              0   \n",
       "\n",
       "   origin_1  origin_2  origin_3   mpg  automaker_name  \n",
       "0         1         0         0  18.0       chevrolet  \n",
       "1         1         0         0  15.0           buick  \n",
       "2         1         0         0  18.0        plymouth  \n",
       "3         1         0         0  16.0             amc  \n",
       "4         1         0         0  17.0            ford  \n",
       "\n",
       "[5 rows x 28 columns]"
      ]
     },
     "execution_count": 20,
     "metadata": {},
     "output_type": "execute_result"
    }
   ],
   "source": [
    "\"\"\"\n",
    "Three solutions can be designed to tackle with this issue:\n",
    "1) Just drop the column 'car_name' (i.e., our model won't rely on that feature for prediction)\n",
    "2) Use one-hot encoding scheme and deal with sparsity data (i.e., possibly leading to overfitting)\n",
    "3) Trade-off: try to build another column which somehow reduces (i.e., cluster) similar values together\n",
    "and then apply one-hot encoding.\n",
    "Let's see how to perform 3)\n",
    "\"\"\"\n",
    "# Suppose we want to create another column called 'automaker_name', which simply contains\n",
    "# the name of the automaker, disregarding the model.\n",
    "# For example, automaker_name('ford gran torino') = automaker_name('ford f250') = 'ford'\n",
    "data['automaker_name'] = data['car_name'].map(lambda x: x.split(' ')[0])\n",
    "data.head()"
   ]
  },
  {
   "cell_type": "code",
   "execution_count": 21,
   "metadata": {
    "slideshow": {
     "slide_type": "slide"
    }
   },
   "outputs": [],
   "source": [
    "# Create the set of the top-10 automakers\n",
    "top_10_automakers = set(data['automaker_name'].value_counts()[:10].index)\n",
    "# Label with 'other' any automaker_name which is not in the list above\n",
    "data['automaker_name'] = np.where(data['automaker_name'].isin(top_10_automakers), \n",
    "                                               data['automaker_name'],\n",
    "                                              'other')"
   ]
  },
  {
   "cell_type": "code",
   "execution_count": 22,
   "metadata": {
    "slideshow": {
     "slide_type": "slide"
    }
   },
   "outputs": [
    {
     "data": {
      "text/html": [
       "<div>\n",
       "<style scoped>\n",
       "    .dataframe tbody tr th:only-of-type {\n",
       "        vertical-align: middle;\n",
       "    }\n",
       "\n",
       "    .dataframe tbody tr th {\n",
       "        vertical-align: top;\n",
       "    }\n",
       "\n",
       "    .dataframe thead th {\n",
       "        text-align: right;\n",
       "    }\n",
       "</style>\n",
       "<table border=\"1\" class=\"dataframe\">\n",
       "  <thead>\n",
       "    <tr style=\"text-align: right;\">\n",
       "      <th></th>\n",
       "      <th>displacement</th>\n",
       "      <th>horsepower</th>\n",
       "      <th>weight</th>\n",
       "      <th>acceleration</th>\n",
       "      <th>car_name</th>\n",
       "      <th>cylinders_3</th>\n",
       "      <th>cylinders_4</th>\n",
       "      <th>cylinders_5</th>\n",
       "      <th>cylinders_6</th>\n",
       "      <th>cylinders_8</th>\n",
       "      <th>...</th>\n",
       "      <th>automaker_name_buick</th>\n",
       "      <th>automaker_name_chevrolet</th>\n",
       "      <th>automaker_name_datsun</th>\n",
       "      <th>automaker_name_dodge</th>\n",
       "      <th>automaker_name_ford</th>\n",
       "      <th>automaker_name_other</th>\n",
       "      <th>automaker_name_plymouth</th>\n",
       "      <th>automaker_name_pontiac</th>\n",
       "      <th>automaker_name_toyota</th>\n",
       "      <th>automaker_name_volkswagen</th>\n",
       "    </tr>\n",
       "  </thead>\n",
       "  <tbody>\n",
       "    <tr>\n",
       "      <th>0</th>\n",
       "      <td>5.030829</td>\n",
       "      <td>130.0</td>\n",
       "      <td>3504.0</td>\n",
       "      <td>12.0</td>\n",
       "      <td>chevrolet chevelle malibu</td>\n",
       "      <td>0</td>\n",
       "      <td>0</td>\n",
       "      <td>0</td>\n",
       "      <td>0</td>\n",
       "      <td>1</td>\n",
       "      <td>...</td>\n",
       "      <td>0</td>\n",
       "      <td>1</td>\n",
       "      <td>0</td>\n",
       "      <td>0</td>\n",
       "      <td>0</td>\n",
       "      <td>0</td>\n",
       "      <td>0</td>\n",
       "      <td>0</td>\n",
       "      <td>0</td>\n",
       "      <td>0</td>\n",
       "    </tr>\n",
       "    <tr>\n",
       "      <th>1</th>\n",
       "      <td>5.735472</td>\n",
       "      <td>165.0</td>\n",
       "      <td>3693.0</td>\n",
       "      <td>11.5</td>\n",
       "      <td>buick skylark 320</td>\n",
       "      <td>0</td>\n",
       "      <td>0</td>\n",
       "      <td>0</td>\n",
       "      <td>0</td>\n",
       "      <td>1</td>\n",
       "      <td>...</td>\n",
       "      <td>1</td>\n",
       "      <td>0</td>\n",
       "      <td>0</td>\n",
       "      <td>0</td>\n",
       "      <td>0</td>\n",
       "      <td>0</td>\n",
       "      <td>0</td>\n",
       "      <td>0</td>\n",
       "      <td>0</td>\n",
       "      <td>0</td>\n",
       "    </tr>\n",
       "    <tr>\n",
       "      <th>2</th>\n",
       "      <td>5.211086</td>\n",
       "      <td>150.0</td>\n",
       "      <td>3436.0</td>\n",
       "      <td>11.0</td>\n",
       "      <td>plymouth satellite</td>\n",
       "      <td>0</td>\n",
       "      <td>0</td>\n",
       "      <td>0</td>\n",
       "      <td>0</td>\n",
       "      <td>1</td>\n",
       "      <td>...</td>\n",
       "      <td>0</td>\n",
       "      <td>0</td>\n",
       "      <td>0</td>\n",
       "      <td>0</td>\n",
       "      <td>0</td>\n",
       "      <td>0</td>\n",
       "      <td>1</td>\n",
       "      <td>0</td>\n",
       "      <td>0</td>\n",
       "      <td>0</td>\n",
       "    </tr>\n",
       "    <tr>\n",
       "      <th>3</th>\n",
       "      <td>4.981667</td>\n",
       "      <td>150.0</td>\n",
       "      <td>3433.0</td>\n",
       "      <td>12.0</td>\n",
       "      <td>amc rebel sst</td>\n",
       "      <td>0</td>\n",
       "      <td>0</td>\n",
       "      <td>0</td>\n",
       "      <td>0</td>\n",
       "      <td>1</td>\n",
       "      <td>...</td>\n",
       "      <td>0</td>\n",
       "      <td>0</td>\n",
       "      <td>0</td>\n",
       "      <td>0</td>\n",
       "      <td>0</td>\n",
       "      <td>0</td>\n",
       "      <td>0</td>\n",
       "      <td>0</td>\n",
       "      <td>0</td>\n",
       "      <td>0</td>\n",
       "    </tr>\n",
       "    <tr>\n",
       "      <th>4</th>\n",
       "      <td>4.948893</td>\n",
       "      <td>140.0</td>\n",
       "      <td>3449.0</td>\n",
       "      <td>11.0</td>\n",
       "      <td>ford torino</td>\n",
       "      <td>0</td>\n",
       "      <td>0</td>\n",
       "      <td>0</td>\n",
       "      <td>0</td>\n",
       "      <td>1</td>\n",
       "      <td>...</td>\n",
       "      <td>0</td>\n",
       "      <td>0</td>\n",
       "      <td>0</td>\n",
       "      <td>0</td>\n",
       "      <td>1</td>\n",
       "      <td>0</td>\n",
       "      <td>0</td>\n",
       "      <td>0</td>\n",
       "      <td>0</td>\n",
       "      <td>0</td>\n",
       "    </tr>\n",
       "  </tbody>\n",
       "</table>\n",
       "<p>5 rows × 38 columns</p>\n",
       "</div>"
      ],
      "text/plain": [
       "   displacement  horsepower  weight  acceleration                   car_name  \\\n",
       "0      5.030829       130.0  3504.0          12.0  chevrolet chevelle malibu   \n",
       "1      5.735472       165.0  3693.0          11.5          buick skylark 320   \n",
       "2      5.211086       150.0  3436.0          11.0         plymouth satellite   \n",
       "3      4.981667       150.0  3433.0          12.0              amc rebel sst   \n",
       "4      4.948893       140.0  3449.0          11.0                ford torino   \n",
       "\n",
       "   cylinders_3  cylinders_4  cylinders_5  cylinders_6  cylinders_8  ...  \\\n",
       "0            0            0            0            0            1  ...   \n",
       "1            0            0            0            0            1  ...   \n",
       "2            0            0            0            0            1  ...   \n",
       "3            0            0            0            0            1  ...   \n",
       "4            0            0            0            0            1  ...   \n",
       "\n",
       "   automaker_name_buick  automaker_name_chevrolet  automaker_name_datsun  \\\n",
       "0                     0                         1                      0   \n",
       "1                     1                         0                      0   \n",
       "2                     0                         0                      0   \n",
       "3                     0                         0                      0   \n",
       "4                     0                         0                      0   \n",
       "\n",
       "   automaker_name_dodge  automaker_name_ford  automaker_name_other  \\\n",
       "0                     0                    0                     0   \n",
       "1                     0                    0                     0   \n",
       "2                     0                    0                     0   \n",
       "3                     0                    0                     0   \n",
       "4                     0                    1                     0   \n",
       "\n",
       "   automaker_name_plymouth  automaker_name_pontiac  automaker_name_toyota  \\\n",
       "0                        0                       0                      0   \n",
       "1                        0                       0                      0   \n",
       "2                        1                       0                      0   \n",
       "3                        0                       0                      0   \n",
       "4                        0                       0                      0   \n",
       "\n",
       "   automaker_name_volkswagen  \n",
       "0                          0  \n",
       "1                          0  \n",
       "2                          0  \n",
       "3                          0  \n",
       "4                          0  \n",
       "\n",
       "[5 rows x 38 columns]"
      ]
     },
     "execution_count": 22,
     "metadata": {},
     "output_type": "execute_result"
    }
   ],
   "source": [
    "categorical_features = ['automaker_name']\n",
    "data = pd.get_dummies(data, columns = categorical_features)\n",
    "data.head()"
   ]
  },
  {
   "cell_type": "code",
   "execution_count": 23,
   "metadata": {
    "slideshow": {
     "slide_type": "slide"
    }
   },
   "outputs": [
    {
     "data": {
      "text/html": [
       "<div>\n",
       "<style scoped>\n",
       "    .dataframe tbody tr th:only-of-type {\n",
       "        vertical-align: middle;\n",
       "    }\n",
       "\n",
       "    .dataframe tbody tr th {\n",
       "        vertical-align: top;\n",
       "    }\n",
       "\n",
       "    .dataframe thead th {\n",
       "        text-align: right;\n",
       "    }\n",
       "</style>\n",
       "<table border=\"1\" class=\"dataframe\">\n",
       "  <thead>\n",
       "    <tr style=\"text-align: right;\">\n",
       "      <th></th>\n",
       "      <th>displacement</th>\n",
       "      <th>horsepower</th>\n",
       "      <th>weight</th>\n",
       "      <th>acceleration</th>\n",
       "      <th>cylinders_3</th>\n",
       "      <th>cylinders_4</th>\n",
       "      <th>cylinders_5</th>\n",
       "      <th>cylinders_6</th>\n",
       "      <th>cylinders_8</th>\n",
       "      <th>model_year_70</th>\n",
       "      <th>...</th>\n",
       "      <th>automaker_name_datsun</th>\n",
       "      <th>automaker_name_dodge</th>\n",
       "      <th>automaker_name_ford</th>\n",
       "      <th>automaker_name_plymouth</th>\n",
       "      <th>automaker_name_pontiac</th>\n",
       "      <th>automaker_name_toyota</th>\n",
       "      <th>automaker_name_volkswagen</th>\n",
       "      <th>automaker_name_other</th>\n",
       "      <th>car_name</th>\n",
       "      <th>mpg</th>\n",
       "    </tr>\n",
       "  </thead>\n",
       "  <tbody>\n",
       "    <tr>\n",
       "      <th>0</th>\n",
       "      <td>5.030829</td>\n",
       "      <td>130.0</td>\n",
       "      <td>3504.0</td>\n",
       "      <td>12.0</td>\n",
       "      <td>0</td>\n",
       "      <td>0</td>\n",
       "      <td>0</td>\n",
       "      <td>0</td>\n",
       "      <td>1</td>\n",
       "      <td>1</td>\n",
       "      <td>...</td>\n",
       "      <td>0</td>\n",
       "      <td>0</td>\n",
       "      <td>0</td>\n",
       "      <td>0</td>\n",
       "      <td>0</td>\n",
       "      <td>0</td>\n",
       "      <td>0</td>\n",
       "      <td>0</td>\n",
       "      <td>chevrolet chevelle malibu</td>\n",
       "      <td>18.0</td>\n",
       "    </tr>\n",
       "    <tr>\n",
       "      <th>1</th>\n",
       "      <td>5.735472</td>\n",
       "      <td>165.0</td>\n",
       "      <td>3693.0</td>\n",
       "      <td>11.5</td>\n",
       "      <td>0</td>\n",
       "      <td>0</td>\n",
       "      <td>0</td>\n",
       "      <td>0</td>\n",
       "      <td>1</td>\n",
       "      <td>1</td>\n",
       "      <td>...</td>\n",
       "      <td>0</td>\n",
       "      <td>0</td>\n",
       "      <td>0</td>\n",
       "      <td>0</td>\n",
       "      <td>0</td>\n",
       "      <td>0</td>\n",
       "      <td>0</td>\n",
       "      <td>0</td>\n",
       "      <td>buick skylark 320</td>\n",
       "      <td>15.0</td>\n",
       "    </tr>\n",
       "    <tr>\n",
       "      <th>2</th>\n",
       "      <td>5.211086</td>\n",
       "      <td>150.0</td>\n",
       "      <td>3436.0</td>\n",
       "      <td>11.0</td>\n",
       "      <td>0</td>\n",
       "      <td>0</td>\n",
       "      <td>0</td>\n",
       "      <td>0</td>\n",
       "      <td>1</td>\n",
       "      <td>1</td>\n",
       "      <td>...</td>\n",
       "      <td>0</td>\n",
       "      <td>0</td>\n",
       "      <td>0</td>\n",
       "      <td>1</td>\n",
       "      <td>0</td>\n",
       "      <td>0</td>\n",
       "      <td>0</td>\n",
       "      <td>0</td>\n",
       "      <td>plymouth satellite</td>\n",
       "      <td>18.0</td>\n",
       "    </tr>\n",
       "    <tr>\n",
       "      <th>3</th>\n",
       "      <td>4.981667</td>\n",
       "      <td>150.0</td>\n",
       "      <td>3433.0</td>\n",
       "      <td>12.0</td>\n",
       "      <td>0</td>\n",
       "      <td>0</td>\n",
       "      <td>0</td>\n",
       "      <td>0</td>\n",
       "      <td>1</td>\n",
       "      <td>1</td>\n",
       "      <td>...</td>\n",
       "      <td>0</td>\n",
       "      <td>0</td>\n",
       "      <td>0</td>\n",
       "      <td>0</td>\n",
       "      <td>0</td>\n",
       "      <td>0</td>\n",
       "      <td>0</td>\n",
       "      <td>0</td>\n",
       "      <td>amc rebel sst</td>\n",
       "      <td>16.0</td>\n",
       "    </tr>\n",
       "    <tr>\n",
       "      <th>4</th>\n",
       "      <td>4.948893</td>\n",
       "      <td>140.0</td>\n",
       "      <td>3449.0</td>\n",
       "      <td>11.0</td>\n",
       "      <td>0</td>\n",
       "      <td>0</td>\n",
       "      <td>0</td>\n",
       "      <td>0</td>\n",
       "      <td>1</td>\n",
       "      <td>1</td>\n",
       "      <td>...</td>\n",
       "      <td>0</td>\n",
       "      <td>0</td>\n",
       "      <td>1</td>\n",
       "      <td>0</td>\n",
       "      <td>0</td>\n",
       "      <td>0</td>\n",
       "      <td>0</td>\n",
       "      <td>0</td>\n",
       "      <td>ford torino</td>\n",
       "      <td>17.0</td>\n",
       "    </tr>\n",
       "  </tbody>\n",
       "</table>\n",
       "<p>5 rows × 38 columns</p>\n",
       "</div>"
      ],
      "text/plain": [
       "   displacement  horsepower  weight  acceleration  cylinders_3  cylinders_4  \\\n",
       "0      5.030829       130.0  3504.0          12.0            0            0   \n",
       "1      5.735472       165.0  3693.0          11.5            0            0   \n",
       "2      5.211086       150.0  3436.0          11.0            0            0   \n",
       "3      4.981667       150.0  3433.0          12.0            0            0   \n",
       "4      4.948893       140.0  3449.0          11.0            0            0   \n",
       "\n",
       "   cylinders_5  cylinders_6  cylinders_8  model_year_70  ...  \\\n",
       "0            0            0            1              1  ...   \n",
       "1            0            0            1              1  ...   \n",
       "2            0            0            1              1  ...   \n",
       "3            0            0            1              1  ...   \n",
       "4            0            0            1              1  ...   \n",
       "\n",
       "   automaker_name_datsun  automaker_name_dodge  automaker_name_ford  \\\n",
       "0                      0                     0                    0   \n",
       "1                      0                     0                    0   \n",
       "2                      0                     0                    0   \n",
       "3                      0                     0                    0   \n",
       "4                      0                     0                    1   \n",
       "\n",
       "   automaker_name_plymouth  automaker_name_pontiac  automaker_name_toyota  \\\n",
       "0                        0                       0                      0   \n",
       "1                        0                       0                      0   \n",
       "2                        1                       0                      0   \n",
       "3                        0                       0                      0   \n",
       "4                        0                       0                      0   \n",
       "\n",
       "   automaker_name_volkswagen  automaker_name_other                   car_name  \\\n",
       "0                          0                     0  chevrolet chevelle malibu   \n",
       "1                          0                     0          buick skylark 320   \n",
       "2                          0                     0         plymouth satellite   \n",
       "3                          0                     0              amc rebel sst   \n",
       "4                          0                     0                ford torino   \n",
       "\n",
       "    mpg  \n",
       "0  18.0  \n",
       "1  15.0  \n",
       "2  18.0  \n",
       "3  16.0  \n",
       "4  17.0  \n",
       "\n",
       "[5 rows x 38 columns]"
      ]
     },
     "execution_count": 23,
     "metadata": {},
     "output_type": "execute_result"
    }
   ],
   "source": [
    "# Just as a convention, I prefer to place the column to be predicted\n",
    "# as the last one.\n",
    "columns = data.columns.tolist()\n",
    "# Popping out 'mpg' from the list and insert it back at the end.\n",
    "columns.insert(len(columns), columns.pop(columns.index('mpg')))\n",
    "# Popping out 'automaker_name_other' from the list and insert it after 'automaker_name_volkswagen'.\n",
    "columns.insert(columns.index('automaker_name_volkswagen'), columns.pop(columns.index('automaker_name_other')))\n",
    "# Popping out 'car_name' from the list and insert it right before 'mpg'\n",
    "columns.insert(-1, columns.pop(columns.index('car_name')))\n",
    "# Let's refactor the DataFrame using this new column index\n",
    "data = data.loc[:, columns]\n",
    "data.head()"
   ]
  },
  {
   "cell_type": "markdown",
   "metadata": {
    "slideshow": {
     "slide_type": "slide"
    }
   },
   "source": [
    "# 4. Building a Predictive Model"
   ]
  },
  {
   "cell_type": "markdown",
   "metadata": {
    "slideshow": {
     "slide_type": "slide"
    }
   },
   "source": [
    "# 4.1 Dataset Splitting: _Training_ vs. _Test_"
   ]
  },
  {
   "cell_type": "code",
   "execution_count": 24,
   "metadata": {
    "slideshow": {
     "slide_type": "slide"
    }
   },
   "outputs": [
    {
     "data": {
      "text/html": [
       "<div>\n",
       "<style scoped>\n",
       "    .dataframe tbody tr th:only-of-type {\n",
       "        vertical-align: middle;\n",
       "    }\n",
       "\n",
       "    .dataframe tbody tr th {\n",
       "        vertical-align: top;\n",
       "    }\n",
       "\n",
       "    .dataframe thead th {\n",
       "        text-align: right;\n",
       "    }\n",
       "</style>\n",
       "<table border=\"1\" class=\"dataframe\">\n",
       "  <thead>\n",
       "    <tr style=\"text-align: right;\">\n",
       "      <th></th>\n",
       "      <th>displacement</th>\n",
       "      <th>horsepower</th>\n",
       "      <th>weight</th>\n",
       "      <th>acceleration</th>\n",
       "      <th>cylinders_3</th>\n",
       "      <th>cylinders_4</th>\n",
       "      <th>cylinders_5</th>\n",
       "      <th>cylinders_6</th>\n",
       "      <th>cylinders_8</th>\n",
       "      <th>model_year_70</th>\n",
       "      <th>...</th>\n",
       "      <th>automaker_name_buick</th>\n",
       "      <th>automaker_name_chevrolet</th>\n",
       "      <th>automaker_name_datsun</th>\n",
       "      <th>automaker_name_dodge</th>\n",
       "      <th>automaker_name_ford</th>\n",
       "      <th>automaker_name_plymouth</th>\n",
       "      <th>automaker_name_pontiac</th>\n",
       "      <th>automaker_name_toyota</th>\n",
       "      <th>automaker_name_volkswagen</th>\n",
       "      <th>automaker_name_other</th>\n",
       "    </tr>\n",
       "  </thead>\n",
       "  <tbody>\n",
       "    <tr>\n",
       "      <th>0</th>\n",
       "      <td>5.030829</td>\n",
       "      <td>130.0</td>\n",
       "      <td>3504.0</td>\n",
       "      <td>12.0</td>\n",
       "      <td>0</td>\n",
       "      <td>0</td>\n",
       "      <td>0</td>\n",
       "      <td>0</td>\n",
       "      <td>1</td>\n",
       "      <td>1</td>\n",
       "      <td>...</td>\n",
       "      <td>0</td>\n",
       "      <td>1</td>\n",
       "      <td>0</td>\n",
       "      <td>0</td>\n",
       "      <td>0</td>\n",
       "      <td>0</td>\n",
       "      <td>0</td>\n",
       "      <td>0</td>\n",
       "      <td>0</td>\n",
       "      <td>0</td>\n",
       "    </tr>\n",
       "    <tr>\n",
       "      <th>1</th>\n",
       "      <td>5.735472</td>\n",
       "      <td>165.0</td>\n",
       "      <td>3693.0</td>\n",
       "      <td>11.5</td>\n",
       "      <td>0</td>\n",
       "      <td>0</td>\n",
       "      <td>0</td>\n",
       "      <td>0</td>\n",
       "      <td>1</td>\n",
       "      <td>1</td>\n",
       "      <td>...</td>\n",
       "      <td>1</td>\n",
       "      <td>0</td>\n",
       "      <td>0</td>\n",
       "      <td>0</td>\n",
       "      <td>0</td>\n",
       "      <td>0</td>\n",
       "      <td>0</td>\n",
       "      <td>0</td>\n",
       "      <td>0</td>\n",
       "      <td>0</td>\n",
       "    </tr>\n",
       "    <tr>\n",
       "      <th>2</th>\n",
       "      <td>5.211086</td>\n",
       "      <td>150.0</td>\n",
       "      <td>3436.0</td>\n",
       "      <td>11.0</td>\n",
       "      <td>0</td>\n",
       "      <td>0</td>\n",
       "      <td>0</td>\n",
       "      <td>0</td>\n",
       "      <td>1</td>\n",
       "      <td>1</td>\n",
       "      <td>...</td>\n",
       "      <td>0</td>\n",
       "      <td>0</td>\n",
       "      <td>0</td>\n",
       "      <td>0</td>\n",
       "      <td>0</td>\n",
       "      <td>1</td>\n",
       "      <td>0</td>\n",
       "      <td>0</td>\n",
       "      <td>0</td>\n",
       "      <td>0</td>\n",
       "    </tr>\n",
       "    <tr>\n",
       "      <th>3</th>\n",
       "      <td>4.981667</td>\n",
       "      <td>150.0</td>\n",
       "      <td>3433.0</td>\n",
       "      <td>12.0</td>\n",
       "      <td>0</td>\n",
       "      <td>0</td>\n",
       "      <td>0</td>\n",
       "      <td>0</td>\n",
       "      <td>1</td>\n",
       "      <td>1</td>\n",
       "      <td>...</td>\n",
       "      <td>0</td>\n",
       "      <td>0</td>\n",
       "      <td>0</td>\n",
       "      <td>0</td>\n",
       "      <td>0</td>\n",
       "      <td>0</td>\n",
       "      <td>0</td>\n",
       "      <td>0</td>\n",
       "      <td>0</td>\n",
       "      <td>0</td>\n",
       "    </tr>\n",
       "    <tr>\n",
       "      <th>4</th>\n",
       "      <td>4.948893</td>\n",
       "      <td>140.0</td>\n",
       "      <td>3449.0</td>\n",
       "      <td>11.0</td>\n",
       "      <td>0</td>\n",
       "      <td>0</td>\n",
       "      <td>0</td>\n",
       "      <td>0</td>\n",
       "      <td>1</td>\n",
       "      <td>1</td>\n",
       "      <td>...</td>\n",
       "      <td>0</td>\n",
       "      <td>0</td>\n",
       "      <td>0</td>\n",
       "      <td>0</td>\n",
       "      <td>1</td>\n",
       "      <td>0</td>\n",
       "      <td>0</td>\n",
       "      <td>0</td>\n",
       "      <td>0</td>\n",
       "      <td>0</td>\n",
       "    </tr>\n",
       "  </tbody>\n",
       "</table>\n",
       "<p>5 rows × 36 columns</p>\n",
       "</div>"
      ],
      "text/plain": [
       "   displacement  horsepower  weight  acceleration  cylinders_3  cylinders_4  \\\n",
       "0      5.030829       130.0  3504.0          12.0            0            0   \n",
       "1      5.735472       165.0  3693.0          11.5            0            0   \n",
       "2      5.211086       150.0  3436.0          11.0            0            0   \n",
       "3      4.981667       150.0  3433.0          12.0            0            0   \n",
       "4      4.948893       140.0  3449.0          11.0            0            0   \n",
       "\n",
       "   cylinders_5  cylinders_6  cylinders_8  model_year_70  ...  \\\n",
       "0            0            0            1              1  ...   \n",
       "1            0            0            1              1  ...   \n",
       "2            0            0            1              1  ...   \n",
       "3            0            0            1              1  ...   \n",
       "4            0            0            1              1  ...   \n",
       "\n",
       "   automaker_name_buick  automaker_name_chevrolet  automaker_name_datsun  \\\n",
       "0                     0                         1                      0   \n",
       "1                     1                         0                      0   \n",
       "2                     0                         0                      0   \n",
       "3                     0                         0                      0   \n",
       "4                     0                         0                      0   \n",
       "\n",
       "   automaker_name_dodge  automaker_name_ford  automaker_name_plymouth  \\\n",
       "0                     0                    0                        0   \n",
       "1                     0                    0                        0   \n",
       "2                     0                    0                        1   \n",
       "3                     0                    0                        0   \n",
       "4                     0                    1                        0   \n",
       "\n",
       "   automaker_name_pontiac  automaker_name_toyota  automaker_name_volkswagen  \\\n",
       "0                       0                      0                          0   \n",
       "1                       0                      0                          0   \n",
       "2                       0                      0                          0   \n",
       "3                       0                      0                          0   \n",
       "4                       0                      0                          0   \n",
       "\n",
       "   automaker_name_other  \n",
       "0                     0  \n",
       "1                     0  \n",
       "2                     0  \n",
       "3                     0  \n",
       "4                     0  \n",
       "\n",
       "[5 rows x 36 columns]"
      ]
     },
     "execution_count": 24,
     "metadata": {},
     "output_type": "execute_result"
    }
   ],
   "source": [
    "\"\"\"\n",
    "Extract the feature matrix from our original DataFrame.\n",
    "\"\"\"\n",
    "# Feature matrix X is composed of all the columns \n",
    "# except 'car_name' and 'mpg' (i.e., the target)\n",
    "X = data.iloc[:,:-2]\n",
    "X.head()"
   ]
  },
  {
   "cell_type": "code",
   "execution_count": 25,
   "metadata": {
    "slideshow": {
     "slide_type": "slide"
    }
   },
   "outputs": [
    {
     "data": {
      "text/plain": [
       "0    18.0\n",
       "1    15.0\n",
       "2    18.0\n",
       "3    16.0\n",
       "4    17.0\n",
       "Name: mpg, dtype: float64"
      ]
     },
     "execution_count": 25,
     "metadata": {},
     "output_type": "execute_result"
    }
   ],
   "source": [
    "\"\"\"\n",
    "Similarly, we want to extract the target column vector y.\n",
    "\"\"\"\n",
    "y = data.mpg\n",
    "y.head()"
   ]
  },
  {
   "cell_type": "markdown",
   "metadata": {
    "slideshow": {
     "slide_type": "slide"
    }
   },
   "source": [
    "\"\"\"\n",
    "Let's split our dataset with scikit-learn 'train_test_split' function, \n",
    "which splits the input dataset into training and test set, respectively.\n",
    "We want the training set to account for 80% of the original dataset, whilst \n",
    "the test set to account for the remaining 20%.\n",
    "Additionally, we would like to take advantage of stratified sampling,\n",
    "so as to obtain the same target distribution in both the training and the test sets.\n",
    "PROBLEM: When target (y) is categorical this is straightforward (just use 'stratify=y').\n",
    "If y is continous, instead, we need to 'discretize' it before use stratified sampling.\n",
    "\"\"\""
   ]
  },
  {
   "cell_type": "code",
   "execution_count": 26,
   "metadata": {
    "slideshow": {
     "slide_type": "slide"
    }
   },
   "outputs": [
    {
     "name": "stdout",
     "output_type": "stream",
     "text": [
      "N. of observations = 398\n",
      "1st quartile = 17.50\n",
      "3rd quartile = 29.00\n",
      "N. of bins = 12\n"
     ]
    }
   ],
   "source": [
    "# 1. Check the number of observations contained in 'y'.\n",
    "print(\"N. of observations = {}\".format(y.shape[0]))\n",
    "\n",
    "# 2. Suppose we want to use the Friedman-Diaconis rule to devise the number of bins.\n",
    "# bin_width = 2 * IQR/n^{1/3}; n_bins = (max - min)/bin_width\n",
    "y_q1, y_q3 = y.quantile([.25, .75])\n",
    "print(\"1st quartile = {:.2f}\".format(y_q1))\n",
    "print(\"3rd quartile = {:.2f}\".format(y_q3))\n",
    "y_IQR = (y_q3 - y_q1)\n",
    "bin_width = 2 * y_IQR/math.pow(y.shape[0], 1/3)\n",
    "n_bins = int((y.max() - y.min())//bin_width)\n",
    "print(\"N. of bins = {}\".format(n_bins))\n",
    "\n",
    "# 3. Save our y values in a new ndarray,\n",
    "# broken down by the bins created above.\n",
    "bins = np.linspace(0, y.shape[0], n_bins)\n",
    "y_binned = np.digitize(y, bins)"
   ]
  },
  {
   "cell_type": "code",
   "execution_count": 27,
   "metadata": {},
   "outputs": [
    {
     "data": {
      "text/plain": [
       "array([1, 1, 1, 1, 1, 1, 1, 1, 1, 1, 1, 1, 1, 1, 1, 1, 1, 1, 1, 1, 1, 1,\n",
       "       1, 1, 1, 1, 1, 1, 1, 1, 1, 1, 1, 1, 1, 1, 1, 1, 1, 1, 1, 1, 1, 1,\n",
       "       1, 1, 1, 1, 1, 1, 1, 1, 1, 1, 1, 1, 1, 1, 1, 1, 1, 1, 1, 1, 1, 1,\n",
       "       1, 1, 1, 1, 1, 1, 1, 1, 1, 1, 1, 1, 1, 1, 1, 1, 1, 1, 1, 1, 1, 1,\n",
       "       1, 1, 1, 1, 1, 1, 1, 1, 1, 1, 1, 1, 1, 1, 1, 1, 1, 1, 1, 1, 1, 1,\n",
       "       1, 1, 1, 1, 1, 1, 1, 1, 1, 1, 1, 1, 1, 1, 1, 1, 1, 1, 1, 1, 1, 1,\n",
       "       1, 1, 1, 1, 1, 1, 1, 1, 1, 1, 1, 1, 1, 1, 1, 1, 1, 1, 1, 1, 1, 1,\n",
       "       1, 1, 1, 1, 1, 1, 1, 1, 1, 1, 1, 1, 1, 1, 1, 1, 1, 1, 1, 1, 1, 1,\n",
       "       1, 1, 1, 1, 1, 1, 1, 1, 1, 1, 1, 1, 1, 1, 1, 1, 1, 1, 1, 1, 1, 1,\n",
       "       1, 1, 1, 1, 1, 1, 1, 1, 1, 1, 1, 1, 1, 1, 1, 1, 1, 1, 1, 1, 1, 1,\n",
       "       1, 1, 1, 1, 1, 1, 1, 1, 1, 1, 1, 1, 1, 1, 1, 1, 1, 1, 1, 1, 1, 1,\n",
       "       1, 1, 2, 1, 1, 2, 1, 1, 1, 1, 1, 1, 1, 1, 1, 1, 1, 1, 1, 1, 1, 1,\n",
       "       1, 1, 1, 1, 1, 1, 1, 1, 1, 1, 1, 1, 1, 1, 1, 1, 1, 1, 1, 1, 1, 1,\n",
       "       1, 1, 1, 1, 1, 1, 1, 1, 1, 1, 1, 1, 1, 1, 1, 1, 1, 1, 2, 1, 1, 1,\n",
       "       1, 2, 2, 1, 2, 1, 1, 1, 1, 1, 1, 1, 2, 1, 2, 1, 2, 2, 2, 2, 1, 2,\n",
       "       2, 1, 1, 1, 1, 1, 1, 1, 1, 1, 1, 1, 1, 2, 2, 1, 1, 2, 2, 1, 1, 1,\n",
       "       1, 1, 1, 1, 1, 1, 1, 1, 1, 1, 1, 1, 1, 1, 1, 1, 1, 1, 1, 1, 1, 1,\n",
       "       1, 1, 2, 1, 2, 1, 1, 1, 1, 2, 1, 2, 1, 2, 1, 1, 1, 1, 1, 1, 2, 1,\n",
       "       1, 1])"
      ]
     },
     "execution_count": 27,
     "metadata": {},
     "output_type": "execute_result"
    }
   ],
   "source": [
    "y_binned"
   ]
  },
  {
   "cell_type": "code",
   "execution_count": 28,
   "metadata": {},
   "outputs": [
    {
     "data": {
      "text/plain": [
       "array([374,  24])"
      ]
     },
     "execution_count": 28,
     "metadata": {},
     "output_type": "execute_result"
    }
   ],
   "source": [
    "unique, counts = np.unique(y_binned, return_counts=True)\n",
    "counts"
   ]
  },
  {
   "cell_type": "code",
   "execution_count": 29,
   "metadata": {
    "slideshow": {
     "slide_type": "slide"
    }
   },
   "outputs": [],
   "source": [
    "from sklearn.model_selection import train_test_split\n",
    "# 4. Pass y_binned to the stratify argument,\n",
    "# and sklearn will handle the rest\n",
    "X_train, X_test, y_train, y_test = train_test_split(X, y, test_size=0.2, \n",
    "                                                    random_state=42, \n",
    "                                                    stratify=y_binned)"
   ]
  },
  {
   "cell_type": "code",
   "execution_count": 30,
   "metadata": {
    "slideshow": {
     "slide_type": "slide"
    }
   },
   "outputs": [
    {
     "name": "stdout",
     "output_type": "stream",
     "text": [
      "Training Set shape: (318, 36)\n",
      "Test Set shape: (80, 36)\n"
     ]
    }
   ],
   "source": [
    "print(\"Training Set shape: {}\".format(X_train.shape))\n",
    "print(\"Test Set shape: {}\".format(X_test.shape))"
   ]
  },
  {
   "cell_type": "markdown",
   "metadata": {
    "slideshow": {
     "slide_type": "slide"
    }
   },
   "source": [
    "## Feature Scaling: Why/When\n",
    "\n",
    "-  <span style=\"color: red\">**REMEMBER:**</span> Not every learning models are sensitive to different feature scales! \n",
    "\n",
    "-  For example, in the case of Linear Regression the vector of model parameters we come up with when we minimize the MSE - using either the pseudo-inverse (closed-form) or gradient descent (iterative) solution - is **not** affected by different feature scales, except for a constant.\n",
    "\n",
    "-  You can convince yourself of this by computing the gradient of MSE using non-scaled and scaled features.\n",
    "\n",
    "-  Other models, instead, are not invariant with respect to scalar transformations of the input (features), and leads to completely different results if features are not properly scaled. "
   ]
  },
  {
   "cell_type": "markdown",
   "metadata": {
    "slideshow": {
     "slide_type": "slide"
    }
   },
   "source": [
    "## Feature Scaling: How\n",
    "\n",
    "-  Feature scaling **cannot** be done looking at the whole dataset!\n",
    "\n",
    "-  In other words, either you standardize (using **z-scores**) or normalize (using **min-max**) your features you **must** do it considering only the training set portion of your dataset.\n",
    "\n",
    "-  The same scaling, then, should be applied to the test set."
   ]
  },
  {
   "cell_type": "code",
   "execution_count": 31,
   "metadata": {
    "slideshow": {
     "slide_type": "slide"
    }
   },
   "outputs": [],
   "source": [
    "\"\"\"\n",
    "Let's use two different feature scaling strategies: standard z-scores and min-max\n",
    "\"\"\"\n",
    "# The following is the scikit-learn package which provides\n",
    "# various preprocessing capabilities\n",
    "from sklearn import preprocessing"
   ]
  },
  {
   "cell_type": "code",
   "execution_count": 32,
   "metadata": {
    "slideshow": {
     "slide_type": "slide"
    }
   },
   "outputs": [],
   "source": [
    "# Standardizing features using z-score\n",
    "std_scaler = preprocessing.StandardScaler().fit(X_train)\n",
    "X_train_std = std_scaler.transform(X_train)\n",
    "# Alternatively, using pure pandas:\n",
    "# X_train_mean = X_train.mean()\n",
    "# X_train_std = X_train.std()\n",
    "# X_train_std = (X_train - X_train_mean)/X_train_std\n",
    "\n",
    "# Normalizing features using min-max\n",
    "minmax_scaler = preprocessing.MinMaxScaler().fit(X_train)\n",
    "X_train_minmax = minmax_scaler.transform(X_train)\n",
    "# Alternatively, using pure pandas:\n",
    "# X_train_max = X_train.max()\n",
    "# X_train_min = X_train.min()\n",
    "# X_train_minmax = (X_train - X_train_min)/(X_train_max - X_train_min)"
   ]
  },
  {
   "cell_type": "code",
   "execution_count": 33,
   "metadata": {
    "slideshow": {
     "slide_type": "slide"
    }
   },
   "outputs": [
    {
     "data": {
      "text/plain": [
       "'\\nAt this stage, we can work with 3 different feature matrices:\\n- The original one: X_train\\n- The standardized one: X_train_std\\n- The min-max normalized one: X_train_minmax\\n'"
      ]
     },
     "execution_count": 33,
     "metadata": {},
     "output_type": "execute_result"
    }
   ],
   "source": [
    "\"\"\"\n",
    "At this stage, we can work with 3 different feature matrices:\n",
    "- The original one: X_train\n",
    "- The standardized one: X_train_std\n",
    "- The min-max normalized one: X_train_minmax\n",
    "\"\"\""
   ]
  },
  {
   "cell_type": "code",
   "execution_count": 34,
   "metadata": {
    "slideshow": {
     "slide_type": "slide"
    }
   },
   "outputs": [],
   "source": [
    "\"\"\"\n",
    "General function used to fit a given model to a training set (X_train, y_train)\n",
    "\"\"\"\n",
    "def fit(model, X_train, y_train):\n",
    "    model.fit(X_train, y_train)"
   ]
  },
  {
   "cell_type": "code",
   "execution_count": 35,
   "metadata": {
    "slideshow": {
     "slide_type": "slide"
    }
   },
   "outputs": [],
   "source": [
    "\"\"\"\n",
    "General function used to make predictions on the test set (X_test)\n",
    "\"\"\"\n",
    "def predictions(model, X_test):\n",
    "    return model.predict(X_test)"
   ]
  },
  {
   "cell_type": "code",
   "execution_count": 36,
   "metadata": {
    "slideshow": {
     "slide_type": "slide"
    }
   },
   "outputs": [],
   "source": [
    "\"\"\"\n",
    "General function used to assess the quality of predictions\n",
    "in terms of two scores: MSE and R2\n",
    "\"\"\"\n",
    "def evaluate(true_values, predicted_values):\n",
    "    # The mean squared error\n",
    "    print(\"Mean Squared Error (MSE) = {:.6f}\".\n",
    "          format(mean_squared_error(true_values, predicted_values)))\n",
    "    # Explained variance score: 1 is perfect prediction\n",
    "    print(\"Coefficient of Determination (R2 score) = {:.6f}\".\n",
    "          format(r2_score(true_values, predicted_values)))"
   ]
  },
  {
   "cell_type": "code",
   "execution_count": 37,
   "metadata": {
    "slideshow": {
     "slide_type": "slide"
    }
   },
   "outputs": [],
   "source": [
    "def print_regression_coefficients(model, columns):\n",
    "    \n",
    "    print(\"Regression Coefficients:\\n{}\".format(\"\\n\".join([\"[\"\n",
    "                                                           + columns[i].strip() \n",
    "                                                           + \"={:.2f}\".\n",
    "                                                           format(model.coef_[i]) \n",
    "                                                           +\"]\" \n",
    "                                                           for i in range(0, len(columns))]\n",
    "                                                         )\n",
    "                                               )\n",
    "         )"
   ]
  },
  {
   "cell_type": "code",
   "execution_count": 38,
   "metadata": {
    "slideshow": {
     "slide_type": "slide"
    }
   },
   "outputs": [],
   "source": [
    "def plot_true_vs_predicted(y_true, y_predicted):\n",
    "    fig, ax = plt.subplots()\n",
    "    ax.scatter(y_true, y_predicted, edgecolors=(0, 0, 0), color='red')\n",
    "    ax.plot([y_true.min(), y_true.max()], [y_true.min(), y_true.max()], 'k--', lw=4)\n",
    "    ax.set_xlabel('True MPG')\n",
    "    ax.set_ylabel('Predicted MPG')"
   ]
  },
  {
   "cell_type": "code",
   "execution_count": 39,
   "metadata": {
    "slideshow": {
     "slide_type": "slide"
    }
   },
   "outputs": [
    {
     "name": "stdout",
     "output_type": "stream",
     "text": [
      "***** Evaluate Predictions on Training Set *****\n",
      "Mean Squared Error (MSE) = 6.391591\n",
      "Coefficient of Determination (R2 score) = 0.892066\n",
      "\n",
      "***** Evaluate Predictions on Test Set *****\n",
      "Mean Squared Error (MSE) = 10.570942\n",
      "Coefficient of Determination (R2 score) = 0.842210\n"
     ]
    },
    {
     "data": {
      "image/png": "[encoded data removed]",
      "text/plain": [
       "<Figure size 432x288 with 1 Axes>"
      ]
     },
     "metadata": {
      "needs_background": "light"
     },
     "output_type": "display_data"
    },
    {
     "data": {
      "image/png": "[encoded data removed]",
      "text/plain": [
       "<Figure size 432x288 with 1 Axes>"
      ]
     },
     "metadata": {
      "needs_background": "light"
     },
     "output_type": "display_data"
    }
   ],
   "source": [
    "# Create linear regression object\n",
    "model = linear_model.LinearRegression()\n",
    "\n",
    "# 1. Try to fit this linear regressor to our original training set\n",
    "fit(model, X_train, y_train)\n",
    "# 2. Assess the quality of predictions made on the same training set\n",
    "print(\"***** Evaluate Predictions on Training Set *****\")\n",
    "mpg_y_train_pred = model.predict(X_train)\n",
    "evaluate(y_train, mpg_y_train_pred)\n",
    "plot_true_vs_predicted(y_train, mpg_y_train_pred)\n",
    "print()\n",
    "# 3. Assess the quality of predictions made on the test set\n",
    "print(\"***** Evaluate Predictions on Test Set *****\")\n",
    "mpg_y_test_pred = model.predict(X_test)\n",
    "evaluate(y_test, mpg_y_test_pred)\n",
    "plot_true_vs_predicted(y_test, mpg_y_test_pred)"
   ]
  },
  {
   "cell_type": "code",
   "execution_count": 40,
   "metadata": {
    "slideshow": {
     "slide_type": "slide"
    }
   },
   "outputs": [
    {
     "name": "stdout",
     "output_type": "stream",
     "text": [
      "Mean Squared Error (MSE) = 10.587701\n",
      "Coefficient of Determination (R2 score) = 0.841960\n"
     ]
    },
    {
     "data": {
      "image/png": "[encoded data removed]",
      "text/plain": [
       "<Figure size 432x288 with 1 Axes>"
      ]
     },
     "metadata": {
      "needs_background": "light"
     },
     "output_type": "display_data"
    }
   ],
   "source": [
    "# Create another linear regression object\n",
    "model_std = linear_model.LinearRegression()\n",
    "\n",
    "# 1. Try to fit this linear regressor to our original training set\n",
    "fit(model_std, X_train_std, y_train)\n",
    "# 2. Scale the test set (using the same scaler fit to the training set)\n",
    "X_test_std = std_scaler.transform(X_test)\n",
    "#X_test_std = (X_test - X_train_mean)/X_train_std\n",
    "# 3. Make predictions using the testing set\n",
    "mpg_y_pred_std = model_std.predict(X_test_std)\n",
    "# 4. Evaluate predictions\n",
    "evaluate(y_test, mpg_y_pred_std)\n",
    "# 5. Plot true vs. predicted values of 'mpg'\n",
    "plot_true_vs_predicted(y_test, mpg_y_pred_std)"
   ]
  },
  {
   "cell_type": "code",
   "execution_count": 41,
   "metadata": {
    "slideshow": {
     "slide_type": "slide"
    }
   },
   "outputs": [
    {
     "name": "stdout",
     "output_type": "stream",
     "text": [
      "Mean Squared Error (MSE) = 10.570942\n",
      "Coefficient of Determination (R2 score) = 0.842210\n"
     ]
    },
    {
     "data": {
      "image/png": "[encoded data removed]",
      "text/plain": [
       "<Figure size 432x288 with 1 Axes>"
      ]
     },
     "metadata": {
      "needs_background": "light"
     },
     "output_type": "display_data"
    }
   ],
   "source": [
    "# Create another linear regression object\n",
    "model_minmax = linear_model.LinearRegression()\n",
    "\n",
    "# 1. Try to fit this linear regressor to our original training set\n",
    "fit(model_minmax, X_train_minmax, y_train)\n",
    "# 2. Scale the test set (using the same scaler fit to the training set)\n",
    "X_test_minmax = minmax_scaler.transform(X_test)\n",
    "#X_test_minmax = (X_test - X_train_min)/X_train_max\n",
    "# 3. Make predictions using the testing set\n",
    "mpg_y_pred_minmax = model_minmax.predict(X_test_minmax)\n",
    "# 4. Evaluate predictions\n",
    "evaluate(y_test, mpg_y_pred_minmax)\n",
    "# 5. Plot true vs. predicted values of 'mpg'\n",
    "plot_true_vs_predicted(y_test, mpg_y_pred_minmax)"
   ]
  },
  {
   "cell_type": "markdown",
   "metadata": {
    "slideshow": {
     "slide_type": "slide"
    }
   },
   "source": [
    "## Feature Selection"
   ]
  },
  {
   "cell_type": "code",
   "execution_count": 42,
   "metadata": {
    "slideshow": {
     "slide_type": "slide"
    }
   },
   "outputs": [
    {
     "name": "stdout",
     "output_type": "stream",
     "text": [
      "Strongest correlated features:\n",
      "weight         -0.831741\n",
      "displacement   -0.804203\n",
      "horsepower     -0.788402\n",
      "cylinders_8    -0.647308\n",
      "origin_1       -0.568192\n",
      "cylinders_4     0.758259\n",
      "Name: mpg, dtype: float64\n",
      "\n",
      "Strongest correlated features (absolute values):\n",
      "weight          0.831741\n",
      "displacement    0.804203\n",
      "horsepower      0.788402\n",
      "cylinders_4     0.758259\n",
      "cylinders_8     0.647308\n",
      "origin_1        0.568192\n",
      "Name: mpg, dtype: float64\n"
     ]
    }
   ],
   "source": [
    "\"\"\"\n",
    "From the last lecture, we have identified the subset of features,\n",
    "which correlate the most with the target 'mpg' variable.\n",
    "\"\"\"\n",
    "corr_matrix = data.corr()\n",
    "strong_corr = corr_matrix[(corr_matrix['mpg'].abs() > .5) &\n",
    "                         (corr_matrix['mpg'] != 1)].loc[:, 'mpg']\n",
    "\n",
    "print(\"Strongest correlated features:\\n{}\".\n",
    "      format(strong_corr.sort_values()))\n",
    "print()\n",
    "print(\"Strongest correlated features (absolute values):\\n{}\".\n",
    "      format(strong_corr.abs().sort_values(ascending=False)))"
   ]
  },
  {
   "cell_type": "code",
   "execution_count": 43,
   "metadata": {},
   "outputs": [
    {
     "data": {
      "text/plain": [
       "displacement   -0.804203\n",
       "horsepower     -0.788402\n",
       "weight         -0.831741\n",
       "cylinders_4     0.758259\n",
       "cylinders_8    -0.647308\n",
       "origin_1       -0.568192\n",
       "Name: mpg, dtype: float64"
      ]
     },
     "execution_count": 43,
     "metadata": {},
     "output_type": "execute_result"
    }
   ],
   "source": [
    "corr_matrix = data.corr()\n",
    "corr_matrix[(corr_matrix['mpg'].abs() > .5) & (corr_matrix['mpg'] != 1)].loc[:, 'mpg']"
   ]
  },
  {
   "cell_type": "code",
   "execution_count": 44,
   "metadata": {
    "slideshow": {
     "slide_type": "slide"
    }
   },
   "outputs": [],
   "source": [
    "\"\"\"\n",
    "Let's select from the whole training set (X_train) and test set (X_test)\n",
    "only those features above.\n",
    "\"\"\"\n",
    "X_train_reduced = X_train[strong_corr.index]\n",
    "X_test_reduced = X_test[strong_corr.index]"
   ]
  },
  {
   "cell_type": "code",
   "execution_count": 45,
   "metadata": {
    "slideshow": {
     "slide_type": "slide"
    }
   },
   "outputs": [
    {
     "name": "stdout",
     "output_type": "stream",
     "text": [
      "Mean Squared Error (MSE) = 21.177612\n",
      "Coefficient of Determination (R2 score) = 0.683886\n"
     ]
    },
    {
     "data": {
      "image/png": "[encoded data removed]",
      "text/plain": [
       "<Figure size 432x288 with 1 Axes>"
      ]
     },
     "metadata": {
      "needs_background": "light"
     },
     "output_type": "display_data"
    }
   ],
   "source": [
    "\"\"\"\n",
    "Train our linear regression model only on this subset of features.\n",
    "\"\"\"\n",
    "# Create another linear regression object\n",
    "model_reduced = linear_model.LinearRegression()\n",
    "\n",
    "# 1. Try to fit this linear regressor to our original training set\n",
    "fit(model_reduced, X_train_reduced, y_train)\n",
    "# 2. Make predictions using the testing set\n",
    "mpg_y_pred_reduced = model_reduced.predict(X_test_reduced)\n",
    "# 3. Evaluate predictions\n",
    "evaluate(y_test, mpg_y_pred_reduced)\n",
    "# 4. Plot true vs. predicted values of 'mpg'\n",
    "plot_true_vs_predicted(y_test, mpg_y_pred_reduced)"
   ]
  },
  {
   "cell_type": "code",
   "execution_count": 46,
   "metadata": {
    "slideshow": {
     "slide_type": "slide"
    }
   },
   "outputs": [],
   "source": [
    "\"\"\"\n",
    "R2 score suffers from an intrinsic issue:\n",
    "It automatically and spuriously increases when extra explanatory variables are added to the model.\n",
    "To overcome this problem, 'adjusted R2' is used, instead.\n",
    "\n",
    "adj_R2 = R2 - (1 - R2) * (p - 1)/(n - p)\n",
    "\n",
    "where p is the total number of explanatory variables in the model (not including the constant term), \n",
    "and n is the sample size.\n",
    "\"\"\"\n",
    "\n",
    "def adjusted_r2_score(r2, p, n):\n",
    "    return r2 - (1 - r2) * (p - 1)/(n - p)"
   ]
  },
  {
   "cell_type": "code",
   "execution_count": 47,
   "metadata": {
    "slideshow": {
     "slide_type": "slide"
    }
   },
   "outputs": [
    {
     "name": "stdout",
     "output_type": "stream",
     "text": [
      "***** Fully trained linear regression model *****\n",
      "- N. of test samples: 80\n",
      "- N. of predictors (i.e., features): 36\n",
      "- R2 score: 0.84\n",
      "***** Reduced linear regression model *****\n",
      "- N. of test samples: 80\n",
      "- N. of predictors (i.e., features): 6\n",
      "- R2 score: 0.68\n",
      "-----------------------------------------------------\n",
      "Adjusted R2 score (fully-trained model): 0.72\n",
      "Adjusted R2 score (reduced model): 0.66\n"
     ]
    }
   ],
   "source": [
    "print(\"***** Fully trained linear regression model *****\")\n",
    "r2_full = r2_score(y_test, mpg_y_test_pred)\n",
    "p_full = len(model.coef_)\n",
    "n = X_test.shape[0]\n",
    "print(\"- N. of test samples: {}\".format(n))\n",
    "print(\"- N. of predictors (i.e., features): {}\".format(p_full))\n",
    "print(\"- R2 score: {:.2f}\".format(r2_full))\n",
    "print(\"***** Reduced linear regression model *****\")\n",
    "r2_reduced = r2_score(y_test, mpg_y_pred_reduced)\n",
    "p_reduced = len(model_reduced.coef_)\n",
    "print(\"- N. of test samples: {}\".format(n))\n",
    "print(\"- N. of predictors (i.e., features): {}\".format(p_reduced))\n",
    "print(\"- R2 score: {:.2f}\".format(r2_reduced))\n",
    "print(\"-----------------------------------------------------\")\n",
    "print(\"Adjusted R2 score (fully-trained model): {:.2f}\"\n",
    "      .format(adjusted_r2_score(r2_full, p_full, n)))\n",
    "print(\"Adjusted R2 score (reduced model): {:.2f}\"\n",
    "      .format(adjusted_r2_score(r2_reduced, p_reduced, n)))"
   ]
  },
  {
   "cell_type": "markdown",
   "metadata": {
    "slideshow": {
     "slide_type": "slide"
    }
   },
   "source": [
    "## $k$-fold Cross Validation"
   ]
  },
  {
   "cell_type": "code",
   "execution_count": 48,
   "metadata": {
    "slideshow": {
     "slide_type": "slide"
    }
   },
   "outputs": [
    {
     "name": "stdout",
     "output_type": "stream",
     "text": [
      "***** Cross Validation Summary *****\n",
      "R2 score on fold-1 = [0.6147700468198078]\n",
      "R2 score on fold-2 = [0.8578432248160661]\n",
      "R2 score on fold-3 = [0.7623781179352231]\n",
      "R2 score on fold-4 = [0.8193522080779391]\n",
      "R2 score on fold-5 = [0.7152008355108634]\n",
      "R2 score on fold-6 = [0.8352881782262789]\n",
      "R2 score on fold-7 = [0.6814313255785452]\n",
      "R2 score on fold-8 = [0.7016084192191395]\n",
      "R2 score on fold-9 = [0.34305069461087445]\n",
      "R2 score on fold-10 = [0.030284777740595126]\n"
     ]
    }
   ],
   "source": [
    "\"\"\"\n",
    "Instead of splitting training and test set, we can use k-fold cross validation.\n",
    "NOTE: Since there is no need for hyperparameter tuning here,\n",
    "we can simply run k-fold cross validation on the whole dataset (X)\n",
    "'cross_val_score' is a function which gives us the cv scores\n",
    "(R2 is the default score for linear regression).\n",
    "\"\"\"\n",
    "from sklearn.model_selection import cross_val_score\n",
    "# Reset the linear regression object\n",
    "cv_model = linear_model.LinearRegression()\n",
    "\n",
    "# Run 'cross_val_score' to get the R2 score on each fold\n",
    "# NOTE: cross validation is performed on the whole dataset as there is no\n",
    "# need for hyperparameter tuning at this stage, nor model comparison.\n",
    "cv_scores = cross_val_score(cv_model, X, y, cv=10)\n",
    "\n",
    "print(\"***** Cross Validation Summary *****\")\n",
    "for v in range(0, len(cv_scores)):\n",
    "    print(\"R2 score on fold-{} = [{}]\".format(v+1, cv_scores[v]))"
   ]
  },
  {
   "cell_type": "code",
   "execution_count": 49,
   "metadata": {
    "slideshow": {
     "slide_type": "slide"
    }
   },
   "outputs": [
    {
     "name": "stdout",
     "output_type": "stream",
     "text": [
      "Average 10-fold cross validation R2 score: 0.64 (+/- 0.25)\n"
     ]
    }
   ],
   "source": [
    "print(\"Average 10-fold cross validation R2 score: {:.2f} (+/- {:.2f})\"\n",
    "      .format(cv_scores.mean(), cv_scores.std()))"
   ]
  },
  {
   "cell_type": "code",
   "execution_count": 50,
   "metadata": {
    "slideshow": {
     "slide_type": "slide"
    }
   },
   "outputs": [
    {
     "name": "stdout",
     "output_type": "stream",
     "text": [
      "***** Cross Validation Summary *****\n",
      "R2 score on fold-1 = [0.8685438627561607]\n",
      "R2 score on fold-2 = [0.8790081690850903]\n",
      "R2 score on fold-3 = [0.8701838448746347]\n",
      "R2 score on fold-4 = [0.8817313681120703]\n",
      "R2 score on fold-5 = [0.8768312703800574]\n",
      "R2 score on fold-6 = [0.8550118543751074]\n",
      "R2 score on fold-7 = [0.8118375370238039]\n",
      "R2 score on fold-8 = [0.8800040343353146]\n",
      "R2 score on fold-9 = [0.8068558383615351]\n",
      "R2 score on fold-10 = [0.876864690816574]\n"
     ]
    }
   ],
   "source": [
    "\"\"\"\n",
    "By default, no shuffling is performed before data splitting.\n",
    "We can override this behavior using a specific instance of KFold class.\n",
    "\"\"\"\n",
    "from sklearn.model_selection import KFold\n",
    "# Reset the linear regression object\n",
    "cv_model = linear_model.LinearRegression()\n",
    "\n",
    "# Run 'cross_val_score' to get the R2 score on each fold\n",
    "cv_scores = cross_val_score(cv_model, X, y, cv=KFold(n_splits=10, \n",
    "                                                     shuffle=True, random_state=42))\n",
    "\n",
    "print(\"***** Cross Validation Summary *****\")\n",
    "for v in range(0, len(cv_scores)):\n",
    "    print(\"R2 score on fold-{} = [{}]\".format(v+1, cv_scores[v]))"
   ]
  },
  {
   "cell_type": "code",
   "execution_count": 51,
   "metadata": {
    "slideshow": {
     "slide_type": "slide"
    }
   },
   "outputs": [
    {
     "name": "stdout",
     "output_type": "stream",
     "text": [
      "Average 10-fold cross validation R2 score (with random shuffling): 0.86 (+/- 0.03)\n"
     ]
    }
   ],
   "source": [
    "print(\"Average 10-fold cross validation R2 score (with random shuffling): {:.2f} (+/- {:.2f})\"\n",
    "      .format(cv_scores.mean(), cv_scores.std()))"
   ]
  },
  {
   "cell_type": "code",
   "execution_count": 52,
   "metadata": {
    "slideshow": {
     "slide_type": "slide"
    }
   },
   "outputs": [
    {
     "name": "stdout",
     "output_type": "stream",
     "text": [
      "***** Cross Validation Summary *****\n",
      "fit_time = [0.00529, 0.00345, 0.00449, 0.00299, 0.00231, 0.00287, 0.00233, 0.00406, 0.02453, 0.00357]\n",
      "score_time = [0.00242, 0.00243, 0.00171, 0.00181, 0.00218, 0.00202, 0.00187, 0.00186, 0.00279, 0.00192]\n",
      "test_r2 = [0.86854, 0.87901, 0.87018, 0.88173, 0.87683, 0.85501, 0.81184, 0.88000, 0.80686, 0.87686]\n",
      "train_r2 = [0.88516, 0.88389, 0.88416, 0.88283, 0.88361, 0.88583, 0.89461, 0.88286, 0.88959, 0.88390]\n"
     ]
    }
   ],
   "source": [
    "\"\"\"\n",
    "Instead of splitting training and test set, we can use k-fold cross validation.\n",
    "NOTE: Since there is no need for hyperparameter tuning here,\n",
    "we can simply run k-fold cross validation on the whole dataset (X)\n",
    "'cross_validate' is a function which gives us a dictionary of scores.\n",
    "\"\"\"\n",
    "from sklearn.model_selection import cross_validate\n",
    "# Reset the linear regression object\n",
    "cv_model = linear_model.LinearRegression()\n",
    "\n",
    "scoring = ['r2']\n",
    "cv_scores = cross_validate(cv_model, X, y, scoring=scoring, \n",
    "                           cv=KFold(n_splits=10, shuffle=True, random_state=42), \n",
    "                           return_train_score=True)\n",
    "print(\"***** Cross Validation Summary *****\")\n",
    "for k in cv_scores:\n",
    "    print(\"{} = [{}]\".format(k, \", \".join([\"{:.5f}\".format(v) for v in cv_scores[k]])))"
   ]
  },
  {
   "cell_type": "code",
   "execution_count": 53,
   "metadata": {
    "scrolled": true,
    "slideshow": {
     "slide_type": "slide"
    }
   },
   "outputs": [
    {
     "name": "stdout",
     "output_type": "stream",
     "text": [
      "Mean Squared Error (MSE) = 8.546446\n",
      "Coefficient of Determination (R2 score) = 0.859747\n"
     ]
    },
    {
     "data": {
      "image/png": "[encoded data removed]",
      "text/plain": [
       "<Figure size 432x288 with 1 Axes>"
      ]
     },
     "metadata": {
      "needs_background": "light"
     },
     "output_type": "display_data"
    }
   ],
   "source": [
    "\"\"\"\n",
    "Use the outcome of k-fold cross validation to generate predictions, \n",
    "calling 'cross_val_predict' function.\n",
    "\"\"\"\n",
    "from sklearn.model_selection import cross_val_predict\n",
    "\n",
    "# Reset the linear regression object\n",
    "cv_model = linear_model.LinearRegression()\n",
    "# We generate predictions on the basis of the result of 10-fold cv\n",
    "mpg_y_pred_cv = cross_val_predict(cv_model, X, y, cv=KFold(n_splits=10, \n",
    "                                                           shuffle=True, random_state=42))\n",
    "# Evaluate predictions\n",
    "evaluate(y, mpg_y_pred_cv)\n",
    "# Plot true vs. predicted values (using 10-fold cross validation)\n",
    "plot_true_vs_predicted(y, mpg_y_pred_cv)"
   ]
  },
  {
   "cell_type": "code",
   "execution_count": 54,
   "metadata": {
    "scrolled": true,
    "slideshow": {
     "slide_type": "slide"
    }
   },
   "outputs": [
    {
     "name": "stdout",
     "output_type": "stream",
     "text": [
      "Mean Squared Error (MSE) = 8.515419\n",
      "Coefficient of Determination (R2 score) = 0.860257\n"
     ]
    },
    {
     "data": {
      "image/png": "[encoded data removed]",
      "text/plain": [
       "<Figure size 432x288 with 1 Axes>"
      ]
     },
     "metadata": {
      "needs_background": "light"
     },
     "output_type": "display_data"
    }
   ],
   "source": [
    "\"\"\"\n",
    "Leave-One-Out cross validation (i.e., k = n, number of observations)\n",
    "\"\"\"\n",
    "from sklearn.model_selection import cross_val_predict\n",
    "\n",
    "# Reset the linear regression object\n",
    "cv_model = linear_model.LinearRegression()\n",
    "# We generate predictions on the basis of the result of leave-one-out\n",
    "mpg_y_pred_cv = cross_val_predict(cv_model, X, y, cv=X.shape[0])\n",
    "# Evaluate predictions\n",
    "evaluate(y, mpg_y_pred_cv)\n",
    "# Plot true vs. predicted values (using leave-one-out cross validation)\n",
    "plot_true_vs_predicted(y, mpg_y_pred_cv)"
   ]
  }
 ],
 "metadata": {
  "celltoolbar": "Slideshow",
  "kernelspec": {
   "display_name": "Python 3 (ipykernel)",
   "language": "python",
   "name": "python3"
  },
  "language_info": {
   "codemirror_mode": {
    "name": "ipython",
    "version": 3
   },
   "file_extension": ".py",
   "mimetype": "text/x-python",
   "name": "python",
   "nbconvert_exporter": "python",
   "pygments_lexer": "ipython3",
   "version": "3.9.7"
  }
 },
 "nbformat": 4,
 "nbformat_minor": 4
}
