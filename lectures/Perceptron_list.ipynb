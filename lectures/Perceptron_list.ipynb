{
 "cells": [
  {
   "cell_type": "code",
   "execution_count": null,
   "id": "0f4f75ce",
   "metadata": {},
   "outputs": [],
   "source": [
    "# crea dataset [(x_0, x_1, x_2, y), ...]\n",
    "dataset = [[1, 3, 1, -1], [1, 1, 2, 1], [1, 2.5, 2, -1], [1, 1, 4, -1]]\n"
   ]
  },
  {
   "cell_type": "code",
   "execution_count": null,
   "id": "560be37e",
   "metadata": {},
   "outputs": [],
   "source": [
    "# vettore parametri modello [w_0, w_1, w_2]\n",
    "#inizializzo i pesi \n",
    "w = [0.1, 0.1, 0.5]\n",
    "\n",
    "# iperparametri (numero iterazioni)\n",
    "num_iter = 50"
   ]
  },
  {
   "cell_type": "code",
   "execution_count": null,
   "id": "58b9f7af",
   "metadata": {},
   "outputs": [],
   "source": [
    "# ripeti il ciclo for fino a che non ci sono più errori (o si raggiunge il massimo numero di iterazioni)\n",
    "while True:\n",
    "    \n",
    "    print(\"num iterazioni = \", num_iter)\n",
    "        \n",
    "    # numero errori\n",
    "    num_errors = 0\n",
    "    \n",
    "    # per ogni elemento del dataset\n",
    "    for elem in dataset:\n",
    "\n",
    "        # estrai la classe dell'elemento\n",
    "        y = elem[3]\n",
    "\n",
    "        # estrai le coordindate dell'elemento\n",
    "        x = elem[:3]\n",
    "\n",
    "        # calcola l'output\n",
    "        output = (w[0] * x[0]) + (w[1] * x[1]) + (w[2] * x[2])\n",
    "\n",
    "        # confronta output con la classe dell'elemento\n",
    "        if (output >= 0 and y < 0) or (output < 0 and y > 0):\n",
    "            # aggiorna parametri\n",
    "            w[0] = w[0] + (x[0] * y)\n",
    "            w[1] = w[1] + (x[1] * y)\n",
    "            w[2] = w[2] + (x[2] * y)\n",
    "            num_errors += 1\n",
    "            \n",
    "        # print(w)\n",
    "        # print(num_errors)\n",
    "        # print(\"==================\")\n",
    "        \n",
    "    # aggiorna iterazioni\n",
    "    num_iter -= 1\n",
    "\n",
    "    # condizioni di uscita dal ciclo while\n",
    "    if (num_errors == 0) or (num_iter == 0):\n",
    "        break\n",
    "\n",
    "print(w)"
   ]
  },
  {
   "cell_type": "code",
   "execution_count": null,
   "id": "d3a8520c",
   "metadata": {},
   "outputs": [],
   "source": []
  }
 ],
 "metadata": {
  "kernelspec": {
   "display_name": "Python 3 (ipykernel)",
   "language": "python",
   "name": "python3"
  },
  "language_info": {
   "codemirror_mode": {
    "name": "ipython",
    "version": 3
   },
   "file_extension": ".py",
   "mimetype": "text/x-python",
   "name": "python",
   "nbconvert_exporter": "python",
   "pygments_lexer": "ipython3",
   "version": "3.9.7"
  }
 },
 "nbformat": 4,
 "nbformat_minor": 5
}
