{
 "cells": [
  {
   "cell_type": "code",
   "execution_count": 15,
   "metadata": {},
   "outputs": [
    {
     "name": "stdout",
     "output_type": "stream",
     "text": [
      "[ 2.46607177 -3.52487808  2.59253371 -1.08576365]\n"
     ]
    },
    {
     "data": {
      "text/plain": [
       "[<matplotlib.lines.Line2D at 0x7fb247a840d0>]"
      ]
     },
     "execution_count": 15,
     "metadata": {},
     "output_type": "execute_result"
    },
    {
     "data": {
      "image/png": "[encoded data removed]",
      "text/plain": [
       "<Figure size 432x288 with 1 Axes>"
      ]
     },
     "metadata": {
      "needs_background": "light"
     },
     "output_type": "display_data"
    }
   ],
   "source": [
    "import numpy as np;\n",
    "import matplotlib.pyplot as plt; \n",
    "\n",
    "N=100\n",
    "a = -1 \n",
    "b = 2,\n",
    "c = -3\n",
    "d = 4\n",
    "\n",
    "disturbo = np.random.normal(loc=0, scale=2.5, size= N*3)\n",
    "\n",
    "X1_1= np.random.normal(loc=-1,scale=0.5 ,size= N) \n",
    "X1_2= np.random.normal(loc=2.5,scale=1 ,size= N) \n",
    "X1_3= np.random.normal(loc=4,scale=1 ,size= N) \n",
    "\n",
    "X1 = np.concatenate([X1_1,X1_2,X1_3])\n",
    "\n",
    "X0 = np.ones(N*3)\n",
    "X_cub = np.stack([X0,X1,X1**2,X1**3],axis=1)\n",
    "\n",
    "Y = a* X1**3 + b* X1**2 + c* X1 + d + disturbo\n",
    "\n",
    "wc = np.random.uniform(low= -1, high=1, size=4)\n",
    "\n",
    "plt.scatter(X1,Y)\n",
    "#parametri \n",
    "mini_batch_size=10\n",
    "eta = 10e-7\n",
    "max_epoch = 10000\n",
    "\n",
    "total_error=np.zeros(max_epoch+1)\n",
    "errors_epoch = np.zeros(max_epoch+1)\n",
    "\n",
    "def error_w (X,y,w):\n",
    "    error = np.sum(np.square(y-np.dot(X,w))) / 2.0\n",
    "    return error\n",
    "\n",
    "for epoch in range(max_epoch):\n",
    "\n",
    "    perm = np.random.permutation(range(Y.shape[0]))\n",
    "    X_cub= X_cub[perm]\n",
    "    Y = Y[perm]\n",
    "    for j in range(0,N*3,mini_batch_size):\n",
    "        X_batch = X_cub[j:(j+mini_batch_size),:]\n",
    "        y_batch = Y[j:(j+mini_batch_size)]\n",
    "        prod= np.dot(X_batch,wc)\n",
    "        errore = y_batch - prod\n",
    "        wc = wc + eta* np.dot(X_batch.T,errore)\n",
    "\n",
    "\n",
    "print(wc)\n",
    "x_grid = np.linspace(-2, 7, 100) \n",
    "# plot line\n",
    "#\n",
    "\n",
    "f= wc[0] + x_grid * wc[1] + x_grid**2 * wc[2]+ x_grid**3 * wc[3]\n",
    "plt.plot(x_grid,f,'red')\n",
    "\n",
    "\n"
   ]
  }
 ],
 "metadata": {
  "interpreter": {
   "hash": "5a8f14dfbcbb2887d0ff311f3dc9ee54808eb066109c3f4be914ef059a6da0d6"
  },
  "kernelspec": {
   "display_name": "Python 3.9.7 ('base')",
   "language": "python",
   "name": "python3"
  },
  "language_info": {
   "codemirror_mode": {
    "name": "ipython",
    "version": 3
   },
   "file_extension": ".py",
   "mimetype": "text/x-python",
   "name": "python",
   "nbconvert_exporter": "python",
   "pygments_lexer": "ipython3",
   "version": "3.9.7"
  },
  "orig_nbformat": 4
 },
 "nbformat": 4,
 "nbformat_minor": 2
}
